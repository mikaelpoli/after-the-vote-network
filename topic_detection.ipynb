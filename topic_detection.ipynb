{
 "cells": [
  {
   "cell_type": "markdown",
   "id": "730b97b8",
   "metadata": {},
   "source": [
    "# Topic Detection"
   ]
  },
  {
   "cell_type": "markdown",
   "id": "09ac7e85",
   "metadata": {},
   "source": [
    "## Description\n",
    "Perform topic detection."
   ]
  },
  {
   "cell_type": "markdown",
   "id": "69c67fb2",
   "metadata": {},
   "source": [
    "## Setup"
   ]
  },
  {
   "cell_type": "markdown",
   "id": "8f7990d3",
   "metadata": {},
   "source": [
    "### Libraries (Pyhton)"
   ]
  },
  {
   "cell_type": "code",
   "execution_count": 2,
   "id": "b6e963b4",
   "metadata": {},
   "outputs": [],
   "source": [
    "import community as community_louvain\n",
    "import matplotlib.pyplot as plt\n",
    "import networkx as nx\n",
    "import numpy as np\n",
    "import pandas as pd\n",
    "from pathlib import Path\n",
    "import sys"
   ]
  },
  {
   "cell_type": "markdown",
   "id": "f7288f78",
   "metadata": {},
   "source": [
    "### Directories"
   ]
  },
  {
   "cell_type": "code",
   "execution_count": 3,
   "id": "e29eb0f4",
   "metadata": {},
   "outputs": [],
   "source": [
    "try:\n",
    "    BASE_DIR = Path(__file__).resolve().parent\n",
    "except NameError:\n",
    "    BASE_DIR = Path().resolve()\n",
    "\n",
    "SRC_DIR = BASE_DIR / 'src'\n",
    "if str(SRC_DIR) not in sys.path:\n",
    "    sys.path.append(str(SRC_DIR))\n",
    "\n",
    "DATA_DIR = BASE_DIR / 'data'\n",
    "DATA_DIR.mkdir(exist_ok=True)\n",
    "POSTS_DIR = DATA_DIR / 'posts'\n",
    "POSTS_ALL_DIR = POSTS_DIR / 'all'\n",
    "POSTS_FILTERED_DIR = POSTS_DIR / 'filtered'\n",
    "POSTS_FILTERED_CLEAN_DIR = POSTS_FILTERED_DIR / 'clean'\n",
    "COMMENTS_DIR = DATA_DIR / 'comments'\n",
    "COMMENTS_CLEAN_DIR = COMMENTS_DIR / 'clean'\n",
    "RESULTS_DIR = BASE_DIR / 'results'\n",
    "RESULTS_GRAPHS_DIR = RESULTS_DIR / 'graphs'"
   ]
  },
  {
   "cell_type": "markdown",
   "id": "d257eafa",
   "metadata": {},
   "source": [
    "### Libraries (Custom)"
   ]
  },
  {
   "cell_type": "code",
   "execution_count": null,
   "id": "9c134e7d",
   "metadata": {},
   "outputs": [],
   "source": []
  },
  {
   "cell_type": "markdown",
   "id": "73c3045b",
   "metadata": {},
   "source": [
    "## Import Data"
   ]
  },
  {
   "cell_type": "code",
   "execution_count": 5,
   "id": "22e2f86c",
   "metadata": {},
   "outputs": [],
   "source": [
    "filename = RESULTS_GRAPHS_DIR / 'g_proj.gexf'\n",
    "G = nx.read_gexf(filename)"
   ]
  },
  {
   "cell_type": "code",
   "execution_count": null,
   "id": "1f70f709",
   "metadata": {},
   "outputs": [
    {
     "name": "stdout",
     "output_type": "stream",
     "text": [
      "{'type': 'Graph', 'directed': False, 'nodes': 6247, 'edges': 131415, 'density': 0.006735990239772343, 'selfloops': 0}\n"
     ]
    }
   ],
   "source": [
    "def graph_info(G):\n",
    "    return {\n",
    "        \"type\": type(G).__name__,\n",
    "        \"directed\": G.is_directed(),\n",
    "        \"nodes\": G.number_of_nodes(),\n",
    "        \"edges\": G.number_of_edges(),\n",
    "        \"density\": nx.density(G),\n",
    "        \"selfloops\": nx.number_of_selfloops(G),\n",
    "    }\n",
    "\n",
    "print(graph_info(G))"
   ]
  },
  {
   "cell_type": "markdown",
   "id": "36270792",
   "metadata": {},
   "source": [
    "## Louvain\n",
    "Run Louvain on the largest connected component."
   ]
  },
  {
   "cell_type": "code",
   "execution_count": null,
   "id": "997551c2",
   "metadata": {},
   "outputs": [],
   "source": [
    "# Extract largest connected component (LCC)\n",
    "largest_cc_nodes = max(nx.connected_components(G_merged_word), key=len)\n",
    "G_lcc = G_merged_word.subgraph(largest_cc_nodes).copy()\n",
    "\n",
    "# Run Louvain\n",
    "partition_lcc = community_louvain.best_partition(G_lcc, weight='weight')\n",
    "print(f\"Louvain (LCC) found {len(set(partition_lcc.values()))} communities.\")"
   ]
  }
 ],
 "metadata": {
  "kernelspec": {
   "display_name": "venv",
   "language": "python",
   "name": "python3"
  },
  "language_info": {
   "codemirror_mode": {
    "name": "ipython",
    "version": 3
   },
   "file_extension": ".py",
   "mimetype": "text/x-python",
   "name": "python",
   "nbconvert_exporter": "python",
   "pygments_lexer": "ipython3",
   "version": "3.11.0"
  }
 },
 "nbformat": 4,
 "nbformat_minor": 5
}
