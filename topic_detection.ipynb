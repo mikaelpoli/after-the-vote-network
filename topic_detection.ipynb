{
 "cells": [
  {
   "cell_type": "markdown",
   "id": "730b97b8",
   "metadata": {},
   "source": [
    "# Topic Detection"
   ]
  },
  {
   "cell_type": "markdown",
   "id": "09ac7e85",
   "metadata": {},
   "source": [
    "## Description\n",
    "Perform topic detection."
   ]
  },
  {
   "cell_type": "markdown",
   "id": "69c67fb2",
   "metadata": {},
   "source": [
    "## Setup"
   ]
  },
  {
   "cell_type": "markdown",
   "id": "8f7990d3",
   "metadata": {},
   "source": [
    "### Libraries (Pyhton)"
   ]
  },
  {
   "cell_type": "code",
   "execution_count": 1,
   "id": "b6e963b4",
   "metadata": {},
   "outputs": [],
   "source": [
    "from bertopic import BERTopic\n",
    "from bertopic.representation import OpenAI\n",
    "from huggingface_hub import InferenceClient\n",
    "from sentence_transformers import SentenceTransformer\n",
    "from sklearn.metrics.pairwise import cosine_similarity\n",
    "from getpass import getpass\n",
    "import community as community_louvain\n",
    "from dotenv import load_dotenv\n",
    "import hdbscan\n",
    "import igraph as ig\n",
    "import json\n",
    "import matplotlib.pyplot as plt\n",
    "import networkx as nx\n",
    "import numpy as np\n",
    "import openai\n",
    "import os\n",
    "import pandas as pd\n",
    "from pathlib import Path\n",
    "import sys\n",
    "from tqdm import tqdm"
   ]
  },
  {
   "cell_type": "markdown",
   "id": "f7288f78",
   "metadata": {},
   "source": [
    "### Directories"
   ]
  },
  {
   "cell_type": "code",
   "execution_count": 2,
   "id": "e29eb0f4",
   "metadata": {},
   "outputs": [],
   "source": [
    "try:\n",
    "    BASE_DIR = Path(__file__).resolve().parent\n",
    "except NameError:\n",
    "    BASE_DIR = Path().resolve()\n",
    "\n",
    "SRC_DIR = BASE_DIR / 'src'\n",
    "if str(SRC_DIR) not in sys.path:\n",
    "    sys.path.append(str(SRC_DIR))\n",
    "\n",
    "DATA_DIR = BASE_DIR / 'data'\n",
    "DATA_DIR.mkdir(exist_ok=True)\n",
    "POSTS_DIR = DATA_DIR / 'posts'\n",
    "POSTS_ALL_DIR = POSTS_DIR / 'all'\n",
    "POSTS_FILTERED_DIR = POSTS_DIR / 'filtered'\n",
    "POSTS_FILTERED_CLEAN_DIR = POSTS_FILTERED_DIR / 'clean'\n",
    "COMMENTS_DIR = DATA_DIR / 'comments'\n",
    "COMMENTS_CLEAN_DIR = COMMENTS_DIR / 'clean'\n",
    "RESULTS_DIR = BASE_DIR / 'results'\n",
    "RESULTS_GRAPHS_DIR = RESULTS_DIR / 'graphs'\n",
    "RESULTS_MODELS_DIR = RESULTS_DIR / 'models'\n",
    "RESULTS_MODELS_DIR.mkdir(exist_ok=True)"
   ]
  },
  {
   "cell_type": "markdown",
   "id": "d257eafa",
   "metadata": {},
   "source": [
    "### Libraries (Custom)"
   ]
  },
  {
   "cell_type": "code",
   "execution_count": 3,
   "id": "561d4cd7",
   "metadata": {},
   "outputs": [],
   "source": [
    "import preprocess as prep"
   ]
  },
  {
   "cell_type": "markdown",
   "id": "73c3045b",
   "metadata": {},
   "source": [
    "## Import Data"
   ]
  },
  {
   "cell_type": "code",
   "execution_count": 4,
   "id": "22e2f86c",
   "metadata": {},
   "outputs": [
    {
     "name": "stdout",
     "output_type": "stream",
     "text": [
      "IGRAPH UNW- 15819 924974 -- \n",
      "+ attr: edge_default (g), node_default (g), _nx_name (v), name (v), weight (e)\n"
     ]
    }
   ],
   "source": [
    "# Graph\n",
    "filename = RESULTS_GRAPHS_DIR / 'g_dd.graphml'\n",
    "g_dd_nx = nx.read_graphml(str(filename))\n",
    "g_dd = ig.Graph.from_networkx(g_dd_nx)\n",
    "\n",
    "print(g_dd.summary())"
   ]
  },
  {
   "cell_type": "code",
   "execution_count": 5,
   "id": "c7028331",
   "metadata": {},
   "outputs": [],
   "source": [
    "# Original documents\n",
    "filename_df = DATA_DIR / 'docs_dd_giant.json'\n",
    "df_dd = pd.read_json(str(filename_df), lines=True)"
   ]
  },
  {
   "cell_type": "code",
   "execution_count": null,
   "id": "272c10ed",
   "metadata": {},
   "outputs": [
    {
     "name": "stdout",
     "output_type": "stream",
     "text": [
      "--- Document-Projected Network (Giant Component) ---\n",
      "Size: 15819\n",
      "Average degree: 116.94\n",
      "Median degree: 50.00\n",
      "Density: 0.00739\n",
      "Diameter: 6.00\n",
      "Average path length: 2.51146\n"
     ]
    }
   ],
   "source": [
    "# Check basic stats\n",
    "print(\"--- Document-Projected Network (Giant Component) ---\")\n",
    "print(f\"Size: {g_dd.vcount()}\")\n",
    "print(f\"Average degree: {np.mean(g_dd.degree()):.2f}\")\n",
    "print(f\"Median degree: {np.median(g_dd.degree()):.2f}\")\n",
    "print(f\"Density: {g_dd.density():.5f}\")\n",
    "print(f\"Diameter: {g_dd.diameter(directed=False, unconn=False):.2f}\")\n",
    "print(f\"Average path length: {g_dd.average_path_length():.5f}\")"
   ]
  },
  {
   "cell_type": "markdown",
   "id": "83c35f52",
   "metadata": {},
   "source": [
    "### Retrieve Original Text [NO NEED TO RUN]\n",
    "Retrieve the original non-processed text from the documents in the network (giant component of Pdd)."
   ]
  },
  {
   "cell_type": "code",
   "execution_count": null,
   "id": "6fa8be1d",
   "metadata": {},
   "outputs": [],
   "source": [
    "# --- Prep posts ---\n",
    "filename_posts = POSTS_FILTERED_CLEAN_DIR / 'all_posts_clean.json'\n",
    "df_posts = pd.read_json(str(filename_posts))\n",
    "\n",
    "# Concantenate original test into a single column\n",
    "df_posts[\"og_text\"] = df_posts[\"title\"].fillna('') + \" \" + df_posts[\"selftext\"].fillna('')\n",
    "\n",
    "# Rename document ID column\n",
    "df_posts.rename(columns={\"id\": \"document_id\"}, inplace=True)"
   ]
  },
  {
   "cell_type": "code",
   "execution_count": null,
   "id": "f68ccb83",
   "metadata": {},
   "outputs": [],
   "source": [
    "# --- Prep comments ---\n",
    "filename_comments = COMMENTS_CLEAN_DIR / 'all_comments_clean.json'\n",
    "df_comments = pd.read_json(str(filename_comments))\n",
    "\n",
    "# Rename comment_body column and comment_id column for compatibility with posts\n",
    "df_comments.rename(columns={\"comment_body\": \"og_text\"}, inplace=True)\n",
    "df_comments.rename(columns={\"comment_id\": \"document_id\"}, inplace=True)"
   ]
  },
  {
   "cell_type": "code",
   "execution_count": null,
   "id": "90b8065e",
   "metadata": {},
   "outputs": [
    {
     "name": "stdout",
     "output_type": "stream",
     "text": [
      "Common columns: Index(['subreddit', 'document_id', 'filtered_pos', 'og_text'], dtype='object')\n"
     ]
    }
   ],
   "source": [
    "# Extract common columns and concatenate dfs\n",
    "common_cols = df_posts.columns.intersection(df_comments.columns)\n",
    "print(f\"Common columns: {common_cols}\")\n",
    "\n",
    "df_merged = pd.concat([df_posts[common_cols], df_comments[common_cols]], ignore_index=True)"
   ]
  },
  {
   "cell_type": "code",
   "execution_count": null,
   "id": "a907484c",
   "metadata": {},
   "outputs": [],
   "source": [
    "# Extract document IDs and filter by them\n",
    "giant_dd_idx = g_dd.vs['name']\n",
    "docs_in_giant_dd = df_merged.loc[giant_dd_idx, \"document_id\"]\n",
    "filtered_df = df_merged[df_merged[\"document_id\"].isin(docs_in_giant_dd)]"
   ]
  },
  {
   "cell_type": "code",
   "execution_count": null,
   "id": "afbf4e34",
   "metadata": {},
   "outputs": [],
   "source": [
    "# Save to JSON\n",
    "# df_merged.to_json(DATA_DIR / 'docs_dd.json', orient='records', lines=True)\n",
    "# filtered_df.to_json(DATA_DIR / 'docs_dd_giant.json', orient='records', lines=True)"
   ]
  },
  {
   "cell_type": "markdown",
   "id": "36270792",
   "metadata": {},
   "source": [
    "## Louvain\n",
    "Run Louvain on the Pdd giant component."
   ]
  },
  {
   "cell_type": "code",
   "execution_count": null,
   "id": "997551c2",
   "metadata": {},
   "outputs": [],
   "source": []
  },
  {
   "cell_type": "markdown",
   "id": "521008ec",
   "metadata": {},
   "source": [
    "## BERTopic\n",
    "Run BERTopic on the Pdd giant component."
   ]
  },
  {
   "cell_type": "code",
   "execution_count": 6,
   "id": "b053aae7",
   "metadata": {},
   "outputs": [
    {
     "name": "stderr",
     "output_type": "stream",
     "text": [
      "100%|██████████| 15819/15819 [00:15<00:00, 1021.75it/s]\n"
     ]
    }
   ],
   "source": [
    "# Prepare documents\n",
    "tqdm.pandas()\n",
    "df_dd['clean_text'] = df_dd['og_text'].progress_apply(prep.bert_preprocess)\n",
    "documents = list(df_dd['clean_text'])"
   ]
  },
  {
   "cell_type": "code",
   "execution_count": null,
   "id": "34da84eb",
   "metadata": {},
   "outputs": [],
   "source": [
    "# Model parameters\n",
    "# sentence_model = SentenceTransformer(\"all-MiniLM-L6-v2\")\n",
    "# bert_model = BERTopic(embedding_model=sentence_model, min_topic_size=50, nr_topics='auto')"
   ]
  },
  {
   "cell_type": "code",
   "execution_count": null,
   "id": "59cb1a6f",
   "metadata": {},
   "outputs": [],
   "source": [
    "# Model fit\n",
    "# topics, probabilities = bert_model.fit_transform(documents)\n",
    "# topics = bert_model.reduce_outliers(documents, topics)"
   ]
  },
  {
   "cell_type": "code",
   "execution_count": null,
   "id": "c98c23de",
   "metadata": {},
   "outputs": [],
   "source": [
    "# Save model\n",
    "# filepath_bert = RESULTS_MODELS_DIR / 'bert'\n",
    "# embedding_model = \"sentence-transformers/all-MiniLM-L6-v2\"\n",
    "# bert_model.save(str(filepath_bert), serialization=\"safetensors\", save_ctfidf=True, save_embedding_model=embedding_model)\n"
   ]
  },
  {
   "cell_type": "code",
   "execution_count": 7,
   "id": "af85007c",
   "metadata": {},
   "outputs": [],
   "source": [
    "# Load model\n",
    "filepath_bert = RESULTS_MODELS_DIR / 'bert'\n",
    "bert_model = BERTopic.load(str(filepath_bert))\n",
    "\n",
    "# Load topics\n",
    "with open(filepath_bert / 'topics.json') as f:\n",
    "    data_bert = json.load(f)\n",
    "\n",
    "topics = data_bert[\"topics\"]\n",
    "df_dd[\"bertopic_topic\"] = topics"
   ]
  },
  {
   "cell_type": "code",
   "execution_count": 93,
   "id": "c96f3188",
   "metadata": {},
   "outputs": [
    {
     "name": "stdout",
     "output_type": "stream",
     "text": [
      "    Topic  Count                                   Name  \\\n",
      "0      -1   8835             -1_trans_people_like_would   \n",
      "1       0    723   0_thank_thanks_happy_congratulations   \n",
      "2       1    697                  1_cis_men_trans_women   \n",
      "3       2    625     2_estrogen_hrt_growth_progesterone   \n",
      "4       3    620     3_democrats_vote_republicans_party   \n",
      "5       4    398       4_christians_christian_god_jesus   \n",
      "6       5    334               5_state_states_blue_safe   \n",
      "7       6    318                6_wear_dress_cold_pants   \n",
      "8       7    308            7_life_transition_feel_time   \n",
      "9       8    282                8_parents_mom_dad_child   \n",
      "10      9    226        9_people_trans_hate_transphobic   \n",
      "11     10    225         10_japanese_name_white_culture   \n",
      "12     11    225      11_puberty_blockers_kids_children   \n",
      "13     12    167       12_like_friend_relationship_talk   \n",
      "14     13    144           13_neutral_guys_bro_gendered   \n",
      "15     14    136  14_disney_characters_character_better   \n",
      "16     15    132         15_name_marker_passport_change   \n",
      "17     16    131          16_genocide_jews_nazis_hitler   \n",
      "18     17    113             17_porn_blahaj_plushie_toy   \n",
      "19     18    101            18_animals_sex_species_fish   \n",
      "20     19     97         19_money_small_power_streaming   \n",
      "21     20     91                 20_hair_body_women_cis   \n",
      "22     21     86            21_bathroom_room_womens_use   \n",
      "23     22     83     22_twitter_facebook_bluesky_reddit   \n",
      "24     23     81            23_police_assault_call_cops   \n",
      "25     24     80   24_fascist_fascists_fascism_liberals   \n",
      "26     25     79                25_horny_orgasm_hrt_sex   \n",
      "27     26     78       26_court_supreme_scotus_justices   \n",
      "28     27     78           27_people_trans_us_community   \n",
      "29     28     76               28_name_mom_names_mother   \n",
      "30     29     74          29_surgery_doctor_top_medical   \n",
      "31     30     60          30_rights_sarah_civil_freedom   \n",
      "32     31     60         31_pronouns_theythem_itits_use   \n",
      "33     32     56     32_federal_care_funding_healthcare   \n",
      "\n",
      "                                       Representation  Representative_Docs  \n",
      "0   [trans, people, like, would, us, get, know, th...                  NaN  \n",
      "1   [thank, thanks, happy, congratulations, post, ...                  NaN  \n",
      "2   [cis, men, trans, women, woman, like, man, peo...                  NaN  \n",
      "3   [estrogen, hrt, growth, progesterone, months, ...                  NaN  \n",
      "4   [democrats, vote, republicans, party, biden, d...                  NaN  \n",
      "5   [christians, christian, god, jesus, bible, rel...                  NaN  \n",
      "6   [state, states, blue, safe, red, california, l...                  NaN  \n",
      "7   [wear, dress, cold, pants, funeral, wearing, g...                  NaN  \n",
      "8   [life, transition, feel, time, like, things, y...                  NaN  \n",
      "9   [parents, mom, dad, child, family, sorry, love...                  NaN  \n",
      "10  [people, trans, hate, transphobic, transphobia...                  NaN  \n",
      "11  [japanese, name, white, culture, racism, cultu...                  NaN  \n",
      "12  [puberty, blockers, kids, children, child, tra...                  NaN  \n",
      "13  [like, friend, relationship, talk, tell, want,...                  NaN  \n",
      "14  [neutral, guys, bro, gendered, gender, sis, co...                  NaN  \n",
      "15  [disney, characters, character, better, subjec...                  NaN  \n",
      "16  [name, marker, passport, change, birth, certif...                  NaN  \n",
      "17  [genocide, jews, nazis, hitler, holocaust, jew...                  NaN  \n",
      "18  [porn, blahaj, plushie, toy, seen, trans, sexu...                  NaN  \n",
      "19  [animals, sex, species, fish, humans, male, ge...                  NaN  \n",
      "20  [money, small, power, streaming, selfish, alli...                  NaN  \n",
      "21  [hair, body, women, cis, laser, hairs, hairy, ...                  NaN  \n",
      "22  [bathroom, room, womens, use, restroom, locker...                  NaN  \n",
      "23  [twitter, facebook, bluesky, reddit, account, ...                  NaN  \n",
      "24  [police, assault, call, cops, charges, report,...                  NaN  \n",
      "25  [fascist, fascists, fascism, liberals, leftist...                  NaN  \n",
      "26  [horny, orgasm, hrt, sex, libido, like, orgasm...                  NaN  \n",
      "27  [court, supreme, scotus, justices, case, ruled...                  NaN  \n",
      "28  [people, trans, us, community, gay, rights, mo...                  NaN  \n",
      "29  [name, mom, names, mother, chosen, chose, sist...                  NaN  \n",
      "30  [surgery, doctor, top, medical, usually, docto...                  NaN  \n",
      "31  [rights, sarah, civil, freedom, human, speech,...                  NaN  \n",
      "32  [pronouns, theythem, itits, use, pronoun, sheh...                  NaN  \n",
      "33  [federal, care, funding, healthcare, insurance...                  NaN  \n"
     ]
    }
   ],
   "source": [
    "# Topic info\n",
    "print(bert_model.get_topic_info())"
   ]
  },
  {
   "cell_type": "code",
   "execution_count": 8,
   "id": "34e2d78f",
   "metadata": {},
   "outputs": [],
   "source": [
    "# Get representative documents for each topic\n",
    "doc_vectors = bert_model.vectorizer_model.transform(df_dd['clean_text'])\n",
    "topic_vectors = bert_model.c_tf_idf_\n",
    "similarity_matrix = cosine_similarity(doc_vectors, topic_vectors)\n",
    "\n",
    "n_representatives = 5\n",
    "representative_docs_idx = {}\n",
    "\n",
    "topics = df_dd['bertopic_topic'].values\n",
    "df_dd['repr_doc_rank'] = np.nan\n",
    "\n",
    "for topic in np.unique(topics):\n",
    "    idxs = np.where(topics == topic)[0]\n",
    "    topic_similarities = similarity_matrix[idxs, topic]\n",
    "    sorted_idx = idxs[np.argsort(topic_similarities)[::-1]]\n",
    "    for rank, doc_idx in enumerate(sorted_idx, start=1):\n",
    "        df_dd.at[doc_idx, 'repr_doc_rank'] = rank\n",
    "    top_n = sorted_idx[:n_representatives]\n",
    "    representative_docs_idx[topic] = top_n"
   ]
  },
  {
   "cell_type": "code",
   "execution_count": 15,
   "id": "591498f9",
   "metadata": {},
   "outputs": [
    {
     "data": {
      "application/vnd.plotly.v1+json": {
       "config": {
        "plotlyServerURL": "https://plot.ly"
       },
       "data": [
        {
         "marker": {
          "color": "#D55E00"
         },
         "orientation": "h",
         "type": "bar",
         "x": [
          0.02708565762042151,
          0.03158563941133392,
          0.033937814769058786,
          0.04303014678987667,
          0.054146906717063605
         ],
         "xaxis": "x",
         "y": [
          "post  ",
          "congratulations  ",
          "happy  ",
          "thanks  ",
          "thank  "
         ],
         "yaxis": "y"
        },
        {
         "marker": {
          "color": "#0072B2"
         },
         "orientation": "h",
         "type": "bar",
         "x": [
          0.025943466686447463,
          0.032701009956093985,
          0.035951463747382256,
          0.03727452259944453,
          0.04584253445789623
         ],
         "xaxis": "x2",
         "y": [
          "woman  ",
          "women  ",
          "trans  ",
          "men  ",
          "cis  "
         ],
         "yaxis": "y2"
        },
        {
         "marker": {
          "color": "#CC79A7"
         },
         "orientation": "h",
         "type": "bar",
         "x": [
          0.022142784206742587,
          0.023294936178341094,
          0.023340644215181023,
          0.029088279981137662,
          0.04229655440671934
         ],
         "xaxis": "x3",
         "y": [
          "months  ",
          "progesterone  ",
          "growth  ",
          "hrt  ",
          "estrogen  "
         ],
         "yaxis": "y3"
        },
        {
         "marker": {
          "color": "#E69F00"
         },
         "orientation": "h",
         "type": "bar",
         "x": [
          0.027792303377007804,
          0.03004301202292564,
          0.034716357517476044,
          0.035781487104204084,
          0.03834911331739837
         ],
         "xaxis": "x4",
         "y": [
          "biden  ",
          "party  ",
          "republicans  ",
          "vote  ",
          "democrats  "
         ],
         "yaxis": "y4"
        },
        {
         "marker": {
          "color": "#56B4E9"
         },
         "orientation": "h",
         "type": "bar",
         "x": [
          0.03329160495680654,
          0.03463038319731864,
          0.035850697272968066,
          0.04411611442757852,
          0.0546569129143658
         ],
         "xaxis": "x5",
         "y": [
          "bible  ",
          "jesus  ",
          "god  ",
          "christian  ",
          "christians  "
         ],
         "yaxis": "y5"
        },
        {
         "marker": {
          "color": "#009E73"
         },
         "orientation": "h",
         "type": "bar",
         "x": [
          0.028271187565867408,
          0.03636521279202868,
          0.0495622922713441,
          0.055027399303362784,
          0.08067553312393762
         ],
         "xaxis": "x6",
         "y": [
          "red  ",
          "safe  ",
          "blue  ",
          "states  ",
          "state  "
         ],
         "yaxis": "y6"
        },
        {
         "marker": {
          "color": "#F0E442"
         },
         "orientation": "h",
         "type": "bar",
         "x": [
          0.04019984021122779,
          0.040986927443504934,
          0.044302728120774036,
          0.049483456640357346,
          0.051676467338639384
         ],
         "xaxis": "x7",
         "y": [
          "funeral  ",
          "pants  ",
          "cold  ",
          "dress  ",
          "wear  "
         ],
         "yaxis": "y7"
        },
        {
         "marker": {
          "color": "#D55E00"
         },
         "orientation": "h",
         "type": "bar",
         "x": [
          0.015029454408511595,
          0.015923808815070814,
          0.016655649266053903,
          0.020599374533681908,
          0.0393835106256746
         ],
         "xaxis": "x8",
         "y": [
          "like  ",
          "time  ",
          "feel  ",
          "transition  ",
          "life  "
         ],
         "yaxis": "y8"
        },
        {
         "marker": {
          "color": "#0072B2"
         },
         "orientation": "h",
         "type": "bar",
         "x": [
          0.026196254071587804,
          0.028300842467662124,
          0.03501198172559024,
          0.043598011956148645,
          0.048589064830061514
         ],
         "xaxis": "x9",
         "y": [
          "family  ",
          "child  ",
          "dad  ",
          "mom  ",
          "parents  "
         ],
         "yaxis": "y9"
        },
        {
         "marker": {
          "color": "#CC79A7"
         },
         "orientation": "h",
         "type": "bar",
         "x": [
          0.02474300451251923,
          0.030944778758675327,
          0.03381252474131359,
          0.044520462128610674,
          0.05228876661330949
         ],
         "xaxis": "x10",
         "y": [
          "transphobia  ",
          "transphobic  ",
          "hate  ",
          "trans  ",
          "people  "
         ],
         "yaxis": "y10"
        },
        {
         "marker": {
          "color": "#E69F00"
         },
         "orientation": "h",
         "type": "bar",
         "x": [
          0.04866509501525235,
          0.05910704622721313,
          0.06597661751552973,
          0.08631107004974929,
          0.0938006251479194
         ],
         "xaxis": "x11",
         "y": [
          "racism  ",
          "culture  ",
          "white  ",
          "name  ",
          "japanese  "
         ],
         "yaxis": "y11"
        },
        {
         "marker": {
          "color": "#56B4E9"
         },
         "orientation": "h",
         "type": "bar",
         "x": [
          0.024842956036484794,
          0.035860457640452814,
          0.04872534617591576,
          0.05540788003178713,
          0.08749366960813114
         ],
         "xaxis": "x12",
         "y": [
          "child  ",
          "children  ",
          "kids  ",
          "blockers  ",
          "puberty  "
         ],
         "yaxis": "y12"
        },
        {
         "marker": {
          "color": "#009E73"
         },
         "orientation": "h",
         "type": "bar",
         "x": [
          0.018870700069304712,
          0.02195719851661279,
          0.024654541795407055,
          0.02644845676049564,
          0.027353511497937334
         ],
         "xaxis": "x13",
         "y": [
          "tell  ",
          "talk  ",
          "relationship  ",
          "friend  ",
          "like  "
         ],
         "yaxis": "y13"
        },
        {
         "marker": {
          "color": "#F0E442"
         },
         "orientation": "h",
         "type": "bar",
         "x": [
          0.063623156774922,
          0.06381991165827083,
          0.07532714387234521,
          0.07772545607600867,
          0.10393899870708984
         ],
         "xaxis": "x14",
         "y": [
          "gender  ",
          "gendered  ",
          "bro  ",
          "guys  ",
          "neutral  "
         ],
         "yaxis": "y14"
        },
        {
         "marker": {
          "color": "#D55E00"
         },
         "orientation": "h",
         "type": "bar",
         "x": [
          0.023592879144355827,
          0.0275599635006762,
          0.027788027604408627,
          0.03593067365188219,
          0.19156853943860522
         ],
         "xaxis": "x15",
         "y": [
          "subjects  ",
          "better  ",
          "character  ",
          "characters  ",
          "disney  "
         ],
         "yaxis": "y15"
        },
        {
         "marker": {
          "color": "#0072B2"
         },
         "orientation": "h",
         "type": "bar",
         "x": [
          0.053801986491561746,
          0.05430584416829178,
          0.05989996553164518,
          0.06356392702857944,
          0.06636239073462724
         ],
         "xaxis": "x16",
         "y": [
          "birth  ",
          "change  ",
          "passport  ",
          "marker  ",
          "name  "
         ],
         "yaxis": "y16"
        },
        {
         "marker": {
          "color": "#CC79A7"
         },
         "orientation": "h",
         "type": "bar",
         "x": [
          0.044731435351870304,
          0.044810201906088025,
          0.05813530835879555,
          0.07052564681035106,
          0.0988109157400722
         ],
         "xaxis": "x17",
         "y": [
          "holocaust  ",
          "hitler  ",
          "nazis  ",
          "jews  ",
          "genocide  "
         ],
         "yaxis": "y17"
        },
        {
         "marker": {
          "color": "#E69F00"
         },
         "orientation": "h",
         "type": "bar",
         "x": [
          0.04105209000016629,
          0.04203159409609739,
          0.05437232964063927,
          0.054972453058765344,
          0.1314145079929481
         ],
         "xaxis": "x18",
         "y": [
          "seen  ",
          "toy  ",
          "plushie  ",
          "blahaj  ",
          "porn  "
         ],
         "yaxis": "y18"
        },
        {
         "marker": {
          "color": "#56B4E9"
         },
         "orientation": "h",
         "type": "bar",
         "x": [
          0.0457188067181089,
          0.06091711104437976,
          0.06299641977095691,
          0.06299932914683852,
          0.09952351380475863
         ],
         "xaxis": "x19",
         "y": [
          "humans  ",
          "fish  ",
          "species  ",
          "sex  ",
          "animals  "
         ],
         "yaxis": "y19"
        },
        {
         "marker": {
          "color": "#009E73"
         },
         "orientation": "h",
         "type": "bar",
         "x": [
          0.035965547221195146,
          0.03947206770934944,
          0.0400293399805415,
          0.04898859911266276,
          0.09698536932145596
         ],
         "xaxis": "x20",
         "y": [
          "selfish  ",
          "streaming  ",
          "power  ",
          "small  ",
          "money  "
         ],
         "yaxis": "y20"
        },
        {
         "marker": {
          "color": "#F0E442"
         },
         "orientation": "h",
         "type": "bar",
         "x": [
          0.04477708308381471,
          0.050902744118111715,
          0.05956901889406248,
          0.10109548823729278,
          0.1987628074938228
         ],
         "xaxis": "x21",
         "y": [
          "laser  ",
          "cis  ",
          "women  ",
          "body  ",
          "hair  "
         ],
         "yaxis": "y21"
        },
        {
         "marker": {
          "color": "#D55E00"
         },
         "orientation": "h",
         "type": "bar",
         "x": [
          0.039942980680295975,
          0.039979734165291665,
          0.0522351550395385,
          0.06138535937612111,
          0.06643129349620114
         ],
         "xaxis": "x22",
         "y": [
          "restroom  ",
          "use  ",
          "womens  ",
          "room  ",
          "bathroom  "
         ],
         "yaxis": "y22"
        },
        {
         "marker": {
          "color": "#0072B2"
         },
         "orientation": "h",
         "type": "bar",
         "x": [
          0.04473055020767899,
          0.048772499965697665,
          0.06421448782889885,
          0.09272766545140747,
          0.13665288898901531
         ],
         "xaxis": "x23",
         "y": [
          "account  ",
          "reddit  ",
          "bluesky  ",
          "facebook  ",
          "twitter  "
         ],
         "yaxis": "y23"
        },
        {
         "marker": {
          "color": "#CC79A7"
         },
         "orientation": "h",
         "type": "bar",
         "x": [
          0.03820582332143434,
          0.04087114400972596,
          0.04428616459509636,
          0.07559154604366444,
          0.07782881488464215
         ],
         "xaxis": "x24",
         "y": [
          "charges  ",
          "cops  ",
          "call  ",
          "assault  ",
          "police  "
         ],
         "yaxis": "y24"
        },
        {
         "marker": {
          "color": "#E69F00"
         },
         "orientation": "h",
         "type": "bar",
         "x": [
          0.029873398076532557,
          0.06409116648614141,
          0.07168654907729737,
          0.07350866706771507,
          0.10774880102665253
         ],
         "xaxis": "x25",
         "y": [
          "leftists  ",
          "liberals  ",
          "fascism  ",
          "fascists  ",
          "fascist  "
         ],
         "yaxis": "y25"
        },
        {
         "marker": {
          "color": "#56B4E9"
         },
         "orientation": "h",
         "type": "bar",
         "x": [
          0.031829039626560404,
          0.03344026458785176,
          0.03368961657612664,
          0.05856163236937795,
          0.1023342323256616
         ],
         "xaxis": "x26",
         "y": [
          "libido  ",
          "sex  ",
          "hrt  ",
          "orgasm  ",
          "horny  "
         ],
         "yaxis": "y26"
        },
        {
         "marker": {
          "color": "#009E73"
         },
         "orientation": "h",
         "type": "bar",
         "x": [
          0.03410966161135366,
          0.04005724412773964,
          0.04633620988581433,
          0.0936347044651732,
          0.1283687424603562
         ],
         "xaxis": "x27",
         "y": [
          "case  ",
          "justices  ",
          "scotus  ",
          "supreme  ",
          "court  "
         ],
         "yaxis": "y27"
        },
        {
         "marker": {
          "color": "#F0E442"
         },
         "orientation": "h",
         "type": "bar",
         "x": [
          0.022594317725592897,
          0.024270024538899447,
          0.028489756013086998,
          0.034134961456730534,
          0.039387763559822105
         ],
         "xaxis": "x28",
         "y": [
          "gay  ",
          "community  ",
          "us  ",
          "trans  ",
          "people  "
         ],
         "yaxis": "y28"
        },
        {
         "marker": {
          "color": "#D55E00"
         },
         "orientation": "h",
         "type": "bar",
         "x": [
          0.02775329092065126,
          0.02958536619930582,
          0.03127955518941602,
          0.045661899026110404,
          0.19791243648882909
         ],
         "xaxis": "x29",
         "y": [
          "chosen  ",
          "mother  ",
          "names  ",
          "mom  ",
          "name  "
         ],
         "yaxis": "y29"
        },
        {
         "marker": {
          "color": "#0072B2"
         },
         "orientation": "h",
         "type": "bar",
         "x": [
          0.030245883006940873,
          0.03154530407305133,
          0.035232517395438555,
          0.05877848925174177,
          0.08714928095242297
         ],
         "xaxis": "x30",
         "y": [
          "usually  ",
          "medical  ",
          "top  ",
          "doctor  ",
          "surgery  "
         ],
         "yaxis": "y30"
        },
        {
         "marker": {
          "color": "#CC79A7"
         },
         "orientation": "h",
         "type": "bar",
         "x": [
          0.03543410164300678,
          0.037400249704018,
          0.03798230539576486,
          0.04559496538847827,
          0.1206228590475015
         ],
         "xaxis": "x31",
         "y": [
          "human  ",
          "freedom  ",
          "civil  ",
          "sarah  ",
          "rights  "
         ],
         "yaxis": "y31"
        },
        {
         "marker": {
          "color": "#E69F00"
         },
         "orientation": "h",
         "type": "bar",
         "x": [
          0.05099106137651098,
          0.05288262293668929,
          0.07166544363007125,
          0.07546177308159363,
          0.1550048863474727
         ],
         "xaxis": "x32",
         "y": [
          "pronoun  ",
          "use  ",
          "itits  ",
          "theythem  ",
          "pronouns  "
         ],
         "yaxis": "y32"
        }
       ],
       "layout": {
        "annotations": [
         {
          "font": {
           "size": 16
          },
          "showarrow": false,
          "text": "Topic 0",
          "x": 0.0875,
          "xanchor": "center",
          "xref": "paper",
          "y": 1,
          "yanchor": "bottom",
          "yref": "paper"
         },
         {
          "font": {
           "size": 16
          },
          "showarrow": false,
          "text": "Topic 1",
          "x": 0.36250000000000004,
          "xanchor": "center",
          "xref": "paper",
          "y": 1,
          "yanchor": "bottom",
          "yref": "paper"
         },
         {
          "font": {
           "size": 16
          },
          "showarrow": false,
          "text": "Topic 2",
          "x": 0.6375000000000001,
          "xanchor": "center",
          "xref": "paper",
          "y": 1,
          "yanchor": "bottom",
          "yref": "paper"
         },
         {
          "font": {
           "size": 16
          },
          "showarrow": false,
          "text": "Topic 3",
          "x": 0.9125,
          "xanchor": "center",
          "xref": "paper",
          "y": 1,
          "yanchor": "bottom",
          "yref": "paper"
         },
         {
          "font": {
           "size": 16
          },
          "showarrow": false,
          "text": "Topic 4",
          "x": 0.0875,
          "xanchor": "center",
          "xref": "paper",
          "y": 0.8687499999999999,
          "yanchor": "bottom",
          "yref": "paper"
         },
         {
          "font": {
           "size": 16
          },
          "showarrow": false,
          "text": "Topic 5",
          "x": 0.36250000000000004,
          "xanchor": "center",
          "xref": "paper",
          "y": 0.8687499999999999,
          "yanchor": "bottom",
          "yref": "paper"
         },
         {
          "font": {
           "size": 16
          },
          "showarrow": false,
          "text": "Topic 6",
          "x": 0.6375000000000001,
          "xanchor": "center",
          "xref": "paper",
          "y": 0.8687499999999999,
          "yanchor": "bottom",
          "yref": "paper"
         },
         {
          "font": {
           "size": 16
          },
          "showarrow": false,
          "text": "Topic 7",
          "x": 0.9125,
          "xanchor": "center",
          "xref": "paper",
          "y": 0.8687499999999999,
          "yanchor": "bottom",
          "yref": "paper"
         },
         {
          "font": {
           "size": 16
          },
          "showarrow": false,
          "text": "Topic 8",
          "x": 0.0875,
          "xanchor": "center",
          "xref": "paper",
          "y": 0.7375,
          "yanchor": "bottom",
          "yref": "paper"
         },
         {
          "font": {
           "size": 16
          },
          "showarrow": false,
          "text": "Topic 9",
          "x": 0.36250000000000004,
          "xanchor": "center",
          "xref": "paper",
          "y": 0.7375,
          "yanchor": "bottom",
          "yref": "paper"
         },
         {
          "font": {
           "size": 16
          },
          "showarrow": false,
          "text": "Topic 10",
          "x": 0.6375000000000001,
          "xanchor": "center",
          "xref": "paper",
          "y": 0.7375,
          "yanchor": "bottom",
          "yref": "paper"
         },
         {
          "font": {
           "size": 16
          },
          "showarrow": false,
          "text": "Topic 11",
          "x": 0.9125,
          "xanchor": "center",
          "xref": "paper",
          "y": 0.7375,
          "yanchor": "bottom",
          "yref": "paper"
         },
         {
          "font": {
           "size": 16
          },
          "showarrow": false,
          "text": "Topic 12",
          "x": 0.0875,
          "xanchor": "center",
          "xref": "paper",
          "y": 0.60625,
          "yanchor": "bottom",
          "yref": "paper"
         },
         {
          "font": {
           "size": 16
          },
          "showarrow": false,
          "text": "Topic 13",
          "x": 0.36250000000000004,
          "xanchor": "center",
          "xref": "paper",
          "y": 0.60625,
          "yanchor": "bottom",
          "yref": "paper"
         },
         {
          "font": {
           "size": 16
          },
          "showarrow": false,
          "text": "Topic 14",
          "x": 0.6375000000000001,
          "xanchor": "center",
          "xref": "paper",
          "y": 0.60625,
          "yanchor": "bottom",
          "yref": "paper"
         },
         {
          "font": {
           "size": 16
          },
          "showarrow": false,
          "text": "Topic 15",
          "x": 0.9125,
          "xanchor": "center",
          "xref": "paper",
          "y": 0.60625,
          "yanchor": "bottom",
          "yref": "paper"
         },
         {
          "font": {
           "size": 16
          },
          "showarrow": false,
          "text": "Topic 16",
          "x": 0.0875,
          "xanchor": "center",
          "xref": "paper",
          "y": 0.475,
          "yanchor": "bottom",
          "yref": "paper"
         },
         {
          "font": {
           "size": 16
          },
          "showarrow": false,
          "text": "Topic 17",
          "x": 0.36250000000000004,
          "xanchor": "center",
          "xref": "paper",
          "y": 0.475,
          "yanchor": "bottom",
          "yref": "paper"
         },
         {
          "font": {
           "size": 16
          },
          "showarrow": false,
          "text": "Topic 18",
          "x": 0.6375000000000001,
          "xanchor": "center",
          "xref": "paper",
          "y": 0.475,
          "yanchor": "bottom",
          "yref": "paper"
         },
         {
          "font": {
           "size": 16
          },
          "showarrow": false,
          "text": "Topic 19",
          "x": 0.9125,
          "xanchor": "center",
          "xref": "paper",
          "y": 0.475,
          "yanchor": "bottom",
          "yref": "paper"
         },
         {
          "font": {
           "size": 16
          },
          "showarrow": false,
          "text": "Topic 20",
          "x": 0.0875,
          "xanchor": "center",
          "xref": "paper",
          "y": 0.34374999999999994,
          "yanchor": "bottom",
          "yref": "paper"
         },
         {
          "font": {
           "size": 16
          },
          "showarrow": false,
          "text": "Topic 21",
          "x": 0.36250000000000004,
          "xanchor": "center",
          "xref": "paper",
          "y": 0.34374999999999994,
          "yanchor": "bottom",
          "yref": "paper"
         },
         {
          "font": {
           "size": 16
          },
          "showarrow": false,
          "text": "Topic 22",
          "x": 0.6375000000000001,
          "xanchor": "center",
          "xref": "paper",
          "y": 0.34374999999999994,
          "yanchor": "bottom",
          "yref": "paper"
         },
         {
          "font": {
           "size": 16
          },
          "showarrow": false,
          "text": "Topic 23",
          "x": 0.9125,
          "xanchor": "center",
          "xref": "paper",
          "y": 0.34374999999999994,
          "yanchor": "bottom",
          "yref": "paper"
         },
         {
          "font": {
           "size": 16
          },
          "showarrow": false,
          "text": "Topic 24",
          "x": 0.0875,
          "xanchor": "center",
          "xref": "paper",
          "y": 0.21249999999999997,
          "yanchor": "bottom",
          "yref": "paper"
         },
         {
          "font": {
           "size": 16
          },
          "showarrow": false,
          "text": "Topic 25",
          "x": 0.36250000000000004,
          "xanchor": "center",
          "xref": "paper",
          "y": 0.21249999999999997,
          "yanchor": "bottom",
          "yref": "paper"
         },
         {
          "font": {
           "size": 16
          },
          "showarrow": false,
          "text": "Topic 26",
          "x": 0.6375000000000001,
          "xanchor": "center",
          "xref": "paper",
          "y": 0.21249999999999997,
          "yanchor": "bottom",
          "yref": "paper"
         },
         {
          "font": {
           "size": 16
          },
          "showarrow": false,
          "text": "Topic 27",
          "x": 0.9125,
          "xanchor": "center",
          "xref": "paper",
          "y": 0.21249999999999997,
          "yanchor": "bottom",
          "yref": "paper"
         },
         {
          "font": {
           "size": 16
          },
          "showarrow": false,
          "text": "Topic 28",
          "x": 0.0875,
          "xanchor": "center",
          "xref": "paper",
          "y": 0.08124999999999999,
          "yanchor": "bottom",
          "yref": "paper"
         },
         {
          "font": {
           "size": 16
          },
          "showarrow": false,
          "text": "Topic 29",
          "x": 0.36250000000000004,
          "xanchor": "center",
          "xref": "paper",
          "y": 0.08124999999999999,
          "yanchor": "bottom",
          "yref": "paper"
         },
         {
          "font": {
           "size": 16
          },
          "showarrow": false,
          "text": "Topic 30",
          "x": 0.6375000000000001,
          "xanchor": "center",
          "xref": "paper",
          "y": 0.08124999999999999,
          "yanchor": "bottom",
          "yref": "paper"
         },
         {
          "font": {
           "size": 16
          },
          "showarrow": false,
          "text": "Topic 31",
          "x": 0.9125,
          "xanchor": "center",
          "xref": "paper",
          "y": 0.08124999999999999,
          "yanchor": "bottom",
          "yref": "paper"
         }
        ],
        "height": 2000,
        "hoverlabel": {
         "bgcolor": "white",
         "font": {
          "family": "Rockwell",
          "size": 16
         }
        },
        "showlegend": false,
        "template": {
         "data": {
          "bar": [
           {
            "error_x": {
             "color": "#2a3f5f"
            },
            "error_y": {
             "color": "#2a3f5f"
            },
            "marker": {
             "line": {
              "color": "white",
              "width": 0.5
             },
             "pattern": {
              "fillmode": "overlay",
              "size": 10,
              "solidity": 0.2
             }
            },
            "type": "bar"
           }
          ],
          "barpolar": [
           {
            "marker": {
             "line": {
              "color": "white",
              "width": 0.5
             },
             "pattern": {
              "fillmode": "overlay",
              "size": 10,
              "solidity": 0.2
             }
            },
            "type": "barpolar"
           }
          ],
          "carpet": [
           {
            "aaxis": {
             "endlinecolor": "#2a3f5f",
             "gridcolor": "#C8D4E3",
             "linecolor": "#C8D4E3",
             "minorgridcolor": "#C8D4E3",
             "startlinecolor": "#2a3f5f"
            },
            "baxis": {
             "endlinecolor": "#2a3f5f",
             "gridcolor": "#C8D4E3",
             "linecolor": "#C8D4E3",
             "minorgridcolor": "#C8D4E3",
             "startlinecolor": "#2a3f5f"
            },
            "type": "carpet"
           }
          ],
          "choropleth": [
           {
            "colorbar": {
             "outlinewidth": 0,
             "ticks": ""
            },
            "type": "choropleth"
           }
          ],
          "contour": [
           {
            "colorbar": {
             "outlinewidth": 0,
             "ticks": ""
            },
            "colorscale": [
             [
              0,
              "#0d0887"
             ],
             [
              0.1111111111111111,
              "#46039f"
             ],
             [
              0.2222222222222222,
              "#7201a8"
             ],
             [
              0.3333333333333333,
              "#9c179e"
             ],
             [
              0.4444444444444444,
              "#bd3786"
             ],
             [
              0.5555555555555556,
              "#d8576b"
             ],
             [
              0.6666666666666666,
              "#ed7953"
             ],
             [
              0.7777777777777778,
              "#fb9f3a"
             ],
             [
              0.8888888888888888,
              "#fdca26"
             ],
             [
              1,
              "#f0f921"
             ]
            ],
            "type": "contour"
           }
          ],
          "contourcarpet": [
           {
            "colorbar": {
             "outlinewidth": 0,
             "ticks": ""
            },
            "type": "contourcarpet"
           }
          ],
          "heatmap": [
           {
            "colorbar": {
             "outlinewidth": 0,
             "ticks": ""
            },
            "colorscale": [
             [
              0,
              "#0d0887"
             ],
             [
              0.1111111111111111,
              "#46039f"
             ],
             [
              0.2222222222222222,
              "#7201a8"
             ],
             [
              0.3333333333333333,
              "#9c179e"
             ],
             [
              0.4444444444444444,
              "#bd3786"
             ],
             [
              0.5555555555555556,
              "#d8576b"
             ],
             [
              0.6666666666666666,
              "#ed7953"
             ],
             [
              0.7777777777777778,
              "#fb9f3a"
             ],
             [
              0.8888888888888888,
              "#fdca26"
             ],
             [
              1,
              "#f0f921"
             ]
            ],
            "type": "heatmap"
           }
          ],
          "histogram": [
           {
            "marker": {
             "pattern": {
              "fillmode": "overlay",
              "size": 10,
              "solidity": 0.2
             }
            },
            "type": "histogram"
           }
          ],
          "histogram2d": [
           {
            "colorbar": {
             "outlinewidth": 0,
             "ticks": ""
            },
            "colorscale": [
             [
              0,
              "#0d0887"
             ],
             [
              0.1111111111111111,
              "#46039f"
             ],
             [
              0.2222222222222222,
              "#7201a8"
             ],
             [
              0.3333333333333333,
              "#9c179e"
             ],
             [
              0.4444444444444444,
              "#bd3786"
             ],
             [
              0.5555555555555556,
              "#d8576b"
             ],
             [
              0.6666666666666666,
              "#ed7953"
             ],
             [
              0.7777777777777778,
              "#fb9f3a"
             ],
             [
              0.8888888888888888,
              "#fdca26"
             ],
             [
              1,
              "#f0f921"
             ]
            ],
            "type": "histogram2d"
           }
          ],
          "histogram2dcontour": [
           {
            "colorbar": {
             "outlinewidth": 0,
             "ticks": ""
            },
            "colorscale": [
             [
              0,
              "#0d0887"
             ],
             [
              0.1111111111111111,
              "#46039f"
             ],
             [
              0.2222222222222222,
              "#7201a8"
             ],
             [
              0.3333333333333333,
              "#9c179e"
             ],
             [
              0.4444444444444444,
              "#bd3786"
             ],
             [
              0.5555555555555556,
              "#d8576b"
             ],
             [
              0.6666666666666666,
              "#ed7953"
             ],
             [
              0.7777777777777778,
              "#fb9f3a"
             ],
             [
              0.8888888888888888,
              "#fdca26"
             ],
             [
              1,
              "#f0f921"
             ]
            ],
            "type": "histogram2dcontour"
           }
          ],
          "mesh3d": [
           {
            "colorbar": {
             "outlinewidth": 0,
             "ticks": ""
            },
            "type": "mesh3d"
           }
          ],
          "parcoords": [
           {
            "line": {
             "colorbar": {
              "outlinewidth": 0,
              "ticks": ""
             }
            },
            "type": "parcoords"
           }
          ],
          "pie": [
           {
            "automargin": true,
            "type": "pie"
           }
          ],
          "scatter": [
           {
            "fillpattern": {
             "fillmode": "overlay",
             "size": 10,
             "solidity": 0.2
            },
            "type": "scatter"
           }
          ],
          "scatter3d": [
           {
            "line": {
             "colorbar": {
              "outlinewidth": 0,
              "ticks": ""
             }
            },
            "marker": {
             "colorbar": {
              "outlinewidth": 0,
              "ticks": ""
             }
            },
            "type": "scatter3d"
           }
          ],
          "scattercarpet": [
           {
            "marker": {
             "colorbar": {
              "outlinewidth": 0,
              "ticks": ""
             }
            },
            "type": "scattercarpet"
           }
          ],
          "scattergeo": [
           {
            "marker": {
             "colorbar": {
              "outlinewidth": 0,
              "ticks": ""
             }
            },
            "type": "scattergeo"
           }
          ],
          "scattergl": [
           {
            "marker": {
             "colorbar": {
              "outlinewidth": 0,
              "ticks": ""
             }
            },
            "type": "scattergl"
           }
          ],
          "scattermap": [
           {
            "marker": {
             "colorbar": {
              "outlinewidth": 0,
              "ticks": ""
             }
            },
            "type": "scattermap"
           }
          ],
          "scattermapbox": [
           {
            "marker": {
             "colorbar": {
              "outlinewidth": 0,
              "ticks": ""
             }
            },
            "type": "scattermapbox"
           }
          ],
          "scatterpolar": [
           {
            "marker": {
             "colorbar": {
              "outlinewidth": 0,
              "ticks": ""
             }
            },
            "type": "scatterpolar"
           }
          ],
          "scatterpolargl": [
           {
            "marker": {
             "colorbar": {
              "outlinewidth": 0,
              "ticks": ""
             }
            },
            "type": "scatterpolargl"
           }
          ],
          "scatterternary": [
           {
            "marker": {
             "colorbar": {
              "outlinewidth": 0,
              "ticks": ""
             }
            },
            "type": "scatterternary"
           }
          ],
          "surface": [
           {
            "colorbar": {
             "outlinewidth": 0,
             "ticks": ""
            },
            "colorscale": [
             [
              0,
              "#0d0887"
             ],
             [
              0.1111111111111111,
              "#46039f"
             ],
             [
              0.2222222222222222,
              "#7201a8"
             ],
             [
              0.3333333333333333,
              "#9c179e"
             ],
             [
              0.4444444444444444,
              "#bd3786"
             ],
             [
              0.5555555555555556,
              "#d8576b"
             ],
             [
              0.6666666666666666,
              "#ed7953"
             ],
             [
              0.7777777777777778,
              "#fb9f3a"
             ],
             [
              0.8888888888888888,
              "#fdca26"
             ],
             [
              1,
              "#f0f921"
             ]
            ],
            "type": "surface"
           }
          ],
          "table": [
           {
            "cells": {
             "fill": {
              "color": "#EBF0F8"
             },
             "line": {
              "color": "white"
             }
            },
            "header": {
             "fill": {
              "color": "#C8D4E3"
             },
             "line": {
              "color": "white"
             }
            },
            "type": "table"
           }
          ]
         },
         "layout": {
          "annotationdefaults": {
           "arrowcolor": "#2a3f5f",
           "arrowhead": 0,
           "arrowwidth": 1
          },
          "autotypenumbers": "strict",
          "coloraxis": {
           "colorbar": {
            "outlinewidth": 0,
            "ticks": ""
           }
          },
          "colorscale": {
           "diverging": [
            [
             0,
             "#8e0152"
            ],
            [
             0.1,
             "#c51b7d"
            ],
            [
             0.2,
             "#de77ae"
            ],
            [
             0.3,
             "#f1b6da"
            ],
            [
             0.4,
             "#fde0ef"
            ],
            [
             0.5,
             "#f7f7f7"
            ],
            [
             0.6,
             "#e6f5d0"
            ],
            [
             0.7,
             "#b8e186"
            ],
            [
             0.8,
             "#7fbc41"
            ],
            [
             0.9,
             "#4d9221"
            ],
            [
             1,
             "#276419"
            ]
           ],
           "sequential": [
            [
             0,
             "#0d0887"
            ],
            [
             0.1111111111111111,
             "#46039f"
            ],
            [
             0.2222222222222222,
             "#7201a8"
            ],
            [
             0.3333333333333333,
             "#9c179e"
            ],
            [
             0.4444444444444444,
             "#bd3786"
            ],
            [
             0.5555555555555556,
             "#d8576b"
            ],
            [
             0.6666666666666666,
             "#ed7953"
            ],
            [
             0.7777777777777778,
             "#fb9f3a"
            ],
            [
             0.8888888888888888,
             "#fdca26"
            ],
            [
             1,
             "#f0f921"
            ]
           ],
           "sequentialminus": [
            [
             0,
             "#0d0887"
            ],
            [
             0.1111111111111111,
             "#46039f"
            ],
            [
             0.2222222222222222,
             "#7201a8"
            ],
            [
             0.3333333333333333,
             "#9c179e"
            ],
            [
             0.4444444444444444,
             "#bd3786"
            ],
            [
             0.5555555555555556,
             "#d8576b"
            ],
            [
             0.6666666666666666,
             "#ed7953"
            ],
            [
             0.7777777777777778,
             "#fb9f3a"
            ],
            [
             0.8888888888888888,
             "#fdca26"
            ],
            [
             1,
             "#f0f921"
            ]
           ]
          },
          "colorway": [
           "#636efa",
           "#EF553B",
           "#00cc96",
           "#ab63fa",
           "#FFA15A",
           "#19d3f3",
           "#FF6692",
           "#B6E880",
           "#FF97FF",
           "#FECB52"
          ],
          "font": {
           "color": "#2a3f5f"
          },
          "geo": {
           "bgcolor": "white",
           "lakecolor": "white",
           "landcolor": "white",
           "showlakes": true,
           "showland": true,
           "subunitcolor": "#C8D4E3"
          },
          "hoverlabel": {
           "align": "left"
          },
          "hovermode": "closest",
          "mapbox": {
           "style": "light"
          },
          "paper_bgcolor": "white",
          "plot_bgcolor": "white",
          "polar": {
           "angularaxis": {
            "gridcolor": "#EBF0F8",
            "linecolor": "#EBF0F8",
            "ticks": ""
           },
           "bgcolor": "white",
           "radialaxis": {
            "gridcolor": "#EBF0F8",
            "linecolor": "#EBF0F8",
            "ticks": ""
           }
          },
          "scene": {
           "xaxis": {
            "backgroundcolor": "white",
            "gridcolor": "#DFE8F3",
            "gridwidth": 2,
            "linecolor": "#EBF0F8",
            "showbackground": true,
            "ticks": "",
            "zerolinecolor": "#EBF0F8"
           },
           "yaxis": {
            "backgroundcolor": "white",
            "gridcolor": "#DFE8F3",
            "gridwidth": 2,
            "linecolor": "#EBF0F8",
            "showbackground": true,
            "ticks": "",
            "zerolinecolor": "#EBF0F8"
           },
           "zaxis": {
            "backgroundcolor": "white",
            "gridcolor": "#DFE8F3",
            "gridwidth": 2,
            "linecolor": "#EBF0F8",
            "showbackground": true,
            "ticks": "",
            "zerolinecolor": "#EBF0F8"
           }
          },
          "shapedefaults": {
           "line": {
            "color": "#2a3f5f"
           }
          },
          "ternary": {
           "aaxis": {
            "gridcolor": "#DFE8F3",
            "linecolor": "#A2B1C6",
            "ticks": ""
           },
           "baxis": {
            "gridcolor": "#DFE8F3",
            "linecolor": "#A2B1C6",
            "ticks": ""
           },
           "bgcolor": "white",
           "caxis": {
            "gridcolor": "#DFE8F3",
            "linecolor": "#A2B1C6",
            "ticks": ""
           }
          },
          "title": {
           "x": 0.05
          },
          "xaxis": {
           "automargin": true,
           "gridcolor": "#EBF0F8",
           "linecolor": "#EBF0F8",
           "ticks": "",
           "title": {
            "standoff": 15
           },
           "zerolinecolor": "#EBF0F8",
           "zerolinewidth": 2
          },
          "yaxis": {
           "automargin": true,
           "gridcolor": "#EBF0F8",
           "linecolor": "#EBF0F8",
           "ticks": "",
           "title": {
            "standoff": 15
           },
           "zerolinecolor": "#EBF0F8",
           "zerolinewidth": 2
          }
         }
        },
        "title": {
         "font": {
          "color": "Black",
          "size": 22
         },
         "text": "Topic Word Scores",
         "x": 0.5,
         "xanchor": "center",
         "yanchor": "top"
        },
        "width": 1000,
        "xaxis": {
         "anchor": "y",
         "domain": [
          0,
          0.175
         ],
         "showgrid": true
        },
        "xaxis10": {
         "anchor": "y10",
         "domain": [
          0.275,
          0.45
         ],
         "showgrid": true
        },
        "xaxis11": {
         "anchor": "y11",
         "domain": [
          0.55,
          0.7250000000000001
         ],
         "showgrid": true
        },
        "xaxis12": {
         "anchor": "y12",
         "domain": [
          0.825,
          1
         ],
         "showgrid": true
        },
        "xaxis13": {
         "anchor": "y13",
         "domain": [
          0,
          0.175
         ],
         "showgrid": true
        },
        "xaxis14": {
         "anchor": "y14",
         "domain": [
          0.275,
          0.45
         ],
         "showgrid": true
        },
        "xaxis15": {
         "anchor": "y15",
         "domain": [
          0.55,
          0.7250000000000001
         ],
         "showgrid": true
        },
        "xaxis16": {
         "anchor": "y16",
         "domain": [
          0.825,
          1
         ],
         "showgrid": true
        },
        "xaxis17": {
         "anchor": "y17",
         "domain": [
          0,
          0.175
         ],
         "showgrid": true
        },
        "xaxis18": {
         "anchor": "y18",
         "domain": [
          0.275,
          0.45
         ],
         "showgrid": true
        },
        "xaxis19": {
         "anchor": "y19",
         "domain": [
          0.55,
          0.7250000000000001
         ],
         "showgrid": true
        },
        "xaxis2": {
         "anchor": "y2",
         "domain": [
          0.275,
          0.45
         ],
         "showgrid": true
        },
        "xaxis20": {
         "anchor": "y20",
         "domain": [
          0.825,
          1
         ],
         "showgrid": true
        },
        "xaxis21": {
         "anchor": "y21",
         "domain": [
          0,
          0.175
         ],
         "showgrid": true
        },
        "xaxis22": {
         "anchor": "y22",
         "domain": [
          0.275,
          0.45
         ],
         "showgrid": true
        },
        "xaxis23": {
         "anchor": "y23",
         "domain": [
          0.55,
          0.7250000000000001
         ],
         "showgrid": true
        },
        "xaxis24": {
         "anchor": "y24",
         "domain": [
          0.825,
          1
         ],
         "showgrid": true
        },
        "xaxis25": {
         "anchor": "y25",
         "domain": [
          0,
          0.175
         ],
         "showgrid": true
        },
        "xaxis26": {
         "anchor": "y26",
         "domain": [
          0.275,
          0.45
         ],
         "showgrid": true
        },
        "xaxis27": {
         "anchor": "y27",
         "domain": [
          0.55,
          0.7250000000000001
         ],
         "showgrid": true
        },
        "xaxis28": {
         "anchor": "y28",
         "domain": [
          0.825,
          1
         ],
         "showgrid": true
        },
        "xaxis29": {
         "anchor": "y29",
         "domain": [
          0,
          0.175
         ],
         "showgrid": true
        },
        "xaxis3": {
         "anchor": "y3",
         "domain": [
          0.55,
          0.7250000000000001
         ],
         "showgrid": true
        },
        "xaxis30": {
         "anchor": "y30",
         "domain": [
          0.275,
          0.45
         ],
         "showgrid": true
        },
        "xaxis31": {
         "anchor": "y31",
         "domain": [
          0.55,
          0.7250000000000001
         ],
         "showgrid": true
        },
        "xaxis32": {
         "anchor": "y32",
         "domain": [
          0.825,
          1
         ],
         "showgrid": true
        },
        "xaxis4": {
         "anchor": "y4",
         "domain": [
          0.825,
          1
         ],
         "showgrid": true
        },
        "xaxis5": {
         "anchor": "y5",
         "domain": [
          0,
          0.175
         ],
         "showgrid": true
        },
        "xaxis6": {
         "anchor": "y6",
         "domain": [
          0.275,
          0.45
         ],
         "showgrid": true
        },
        "xaxis7": {
         "anchor": "y7",
         "domain": [
          0.55,
          0.7250000000000001
         ],
         "showgrid": true
        },
        "xaxis8": {
         "anchor": "y8",
         "domain": [
          0.825,
          1
         ],
         "showgrid": true
        },
        "xaxis9": {
         "anchor": "y9",
         "domain": [
          0,
          0.175
         ],
         "showgrid": true
        },
        "yaxis": {
         "anchor": "x",
         "domain": [
          0.91875,
          1
         ],
         "showgrid": true
        },
        "yaxis10": {
         "anchor": "x10",
         "domain": [
          0.65625,
          0.7375
         ],
         "showgrid": true
        },
        "yaxis11": {
         "anchor": "x11",
         "domain": [
          0.65625,
          0.7375
         ],
         "showgrid": true
        },
        "yaxis12": {
         "anchor": "x12",
         "domain": [
          0.65625,
          0.7375
         ],
         "showgrid": true
        },
        "yaxis13": {
         "anchor": "x13",
         "domain": [
          0.5249999999999999,
          0.60625
         ],
         "showgrid": true
        },
        "yaxis14": {
         "anchor": "x14",
         "domain": [
          0.5249999999999999,
          0.60625
         ],
         "showgrid": true
        },
        "yaxis15": {
         "anchor": "x15",
         "domain": [
          0.5249999999999999,
          0.60625
         ],
         "showgrid": true
        },
        "yaxis16": {
         "anchor": "x16",
         "domain": [
          0.5249999999999999,
          0.60625
         ],
         "showgrid": true
        },
        "yaxis17": {
         "anchor": "x17",
         "domain": [
          0.39375,
          0.475
         ],
         "showgrid": true
        },
        "yaxis18": {
         "anchor": "x18",
         "domain": [
          0.39375,
          0.475
         ],
         "showgrid": true
        },
        "yaxis19": {
         "anchor": "x19",
         "domain": [
          0.39375,
          0.475
         ],
         "showgrid": true
        },
        "yaxis2": {
         "anchor": "x2",
         "domain": [
          0.91875,
          1
         ],
         "showgrid": true
        },
        "yaxis20": {
         "anchor": "x20",
         "domain": [
          0.39375,
          0.475
         ],
         "showgrid": true
        },
        "yaxis21": {
         "anchor": "x21",
         "domain": [
          0.26249999999999996,
          0.34374999999999994
         ],
         "showgrid": true
        },
        "yaxis22": {
         "anchor": "x22",
         "domain": [
          0.26249999999999996,
          0.34374999999999994
         ],
         "showgrid": true
        },
        "yaxis23": {
         "anchor": "x23",
         "domain": [
          0.26249999999999996,
          0.34374999999999994
         ],
         "showgrid": true
        },
        "yaxis24": {
         "anchor": "x24",
         "domain": [
          0.26249999999999996,
          0.34374999999999994
         ],
         "showgrid": true
        },
        "yaxis25": {
         "anchor": "x25",
         "domain": [
          0.13124999999999998,
          0.21249999999999997
         ],
         "showgrid": true
        },
        "yaxis26": {
         "anchor": "x26",
         "domain": [
          0.13124999999999998,
          0.21249999999999997
         ],
         "showgrid": true
        },
        "yaxis27": {
         "anchor": "x27",
         "domain": [
          0.13124999999999998,
          0.21249999999999997
         ],
         "showgrid": true
        },
        "yaxis28": {
         "anchor": "x28",
         "domain": [
          0.13124999999999998,
          0.21249999999999997
         ],
         "showgrid": true
        },
        "yaxis29": {
         "anchor": "x29",
         "domain": [
          0,
          0.08124999999999999
         ],
         "showgrid": true
        },
        "yaxis3": {
         "anchor": "x3",
         "domain": [
          0.91875,
          1
         ],
         "showgrid": true
        },
        "yaxis30": {
         "anchor": "x30",
         "domain": [
          0,
          0.08124999999999999
         ],
         "showgrid": true
        },
        "yaxis31": {
         "anchor": "x31",
         "domain": [
          0,
          0.08124999999999999
         ],
         "showgrid": true
        },
        "yaxis32": {
         "anchor": "x32",
         "domain": [
          0,
          0.08124999999999999
         ],
         "showgrid": true
        },
        "yaxis4": {
         "anchor": "x4",
         "domain": [
          0.91875,
          1
         ],
         "showgrid": true
        },
        "yaxis5": {
         "anchor": "x5",
         "domain": [
          0.7875,
          0.8687499999999999
         ],
         "showgrid": true
        },
        "yaxis6": {
         "anchor": "x6",
         "domain": [
          0.7875,
          0.8687499999999999
         ],
         "showgrid": true
        },
        "yaxis7": {
         "anchor": "x7",
         "domain": [
          0.7875,
          0.8687499999999999
         ],
         "showgrid": true
        },
        "yaxis8": {
         "anchor": "x8",
         "domain": [
          0.7875,
          0.8687499999999999
         ],
         "showgrid": true
        },
        "yaxis9": {
         "anchor": "x9",
         "domain": [
          0.65625,
          0.7375
         ],
         "showgrid": true
        }
       }
      }
     },
     "metadata": {},
     "output_type": "display_data"
    }
   ],
   "source": [
    "bert_model.visualize_barchart(top_n_topics=32, title='Topic Word Scores', width=250, height=250, autoscale=True)"
   ]
  },
  {
   "cell_type": "code",
   "execution_count": null,
   "id": "b4740d21",
   "metadata": {},
   "outputs": [],
   "source": [
    "# Fine-tune representations\n",
    "top_docs_per_topic = {}\n",
    "\n",
    "for topic in df_dd['bertopic_topic'].unique():\n",
    "    if topic == -1:\n",
    "        continue  # skip outliers\n",
    "    top_docs = df_dd[df_dd['bertopic_topic'] == topic].sort_values('repr_doc_rank').head(5)['og_text']\n",
    "    top_docs_per_topic[topic] = top_docs.tolist()\n",
    "\n",
    "# Store the new labels\n",
    "topic_labels = {\n",
    "    '0': 'Transgender Identity and Affirmation',\n",
    "    '1': '',\n",
    "    '2': '',\n",
    "    '3': '',\n",
    "    '4': '',\n",
    "    '5': '',\n",
    "    '6': '',\n",
    "    '7': '',\n",
    "    '8': '',\n",
    "    '9': '',\n",
    "    '10': '',\n",
    "    '11': '',\n",
    "    '12': '',\n",
    "    '13': '',\n",
    "    '14': '',\n",
    "    '15': '',\n",
    "    '16': '',\n",
    "    '17': '',\n",
    "    '18': '',\n",
    "    '19': '',\n",
    "    '20': '',\n",
    "    '21': '',\n",
    "    '22': '',\n",
    "    '23': '',\n",
    "    '24': '',\n",
    "    '25': '',\n",
    "    '26': '',\n",
    "    '27': '',\n",
    "    '28': '',\n",
    "    '29': '',\n",
    "    '30': '',\n",
    "    '31': '',\n",
    "    '32': '',\n",
    "}\n"
   ]
  },
  {
   "cell_type": "code",
   "execution_count": 23,
   "id": "39f0bddf",
   "metadata": {},
   "outputs": [
    {
     "data": {
      "text/plain": [
       "['Honestly this well said and really hits hard, although, I’m not sure how many people would read through this all the way. If it’s an essay and how it feels to be trans and the challenges we face, excellently done! If it’s a coming out post, direct and concise would be best. This would be too long, I’m afraid, so I would recommend making it a paragraph or two. Maybe come out first and then say what you need to say? Then that would encourage more people to read through the whole thing, cuz it gives them the hook first, and then they’re like, “wait, what? Why?” And so they keep reading. Just my recommendation is all, lovely piece, it was an intriguing and educational read, thank you',\n",
       " 'Congratulations! 😁 I\\'ve still never had this happen to me yet, but I am WAITING for it! I think of it as, like, a rite of passage. I imagine it happening, and, in my head fantasy, I just get so giddy, and happy, and excited, and I\\'m just totally open about it, and I\\'m like, \"NIIII!! It finally HAPPENED! Oh my GOD! THANK YOU! SO much! You have no idea how hard you just made my fucking WEEK! 😇\" And then, when they realize what\\'s happening, they start objecting, and try to tell me I\\'ll actually never be a real *woman*, but they can\\'t phase me \\'cause they just gelded themselves, and I\\'m just like, \"Nuh-uh, transphobe,\" and I\\'m so happy and have an almost sexual, flirtatious groan to my \"nuh-uh,\" and I\\'m like, \"You already said what you really believe. You can\\'t take it back now. You revealed your hand.\" Then I put my cat ear headphones back on and dance confidently away, nightcore blaring loud enough for the phobe to hear it, feeling thoroughly empowered vindicated, and affirmed. That\\'s how it goes in my head anyway. 🙃',\n",
       " \"Seems like! I knew I could do it next year if I didn't this year, but I'd also know that I'd feel disappointed in myself if I didn't do it this time.\",\n",
       " \"Hey Erin! I know this is a weird place to put this comment, but your wedding photos were beautiful. My wife and I (both women, she is trans and I am cis) met in Missoula and lived there for a long time. When we see you and Zooey post, it makes us really happy to see you there. We met at Forester's Ball almost 10 years ago now. Thank you for the thoughtful politics!\",\n",
       " \"Huge congratulations, and what a wonderful feeling to be able to be yourself and be seen. Don't worry about the people who ignored you. They're not worth wasting any time thinking about. I had a very similar experience the first work party I went to after coming out. You certainly find out who your true friends and allies are. Many people, some who I had never really talked to before, complimented me on my dress, but lots of people who I have worked with for decades and I used to count among my friends ignored me, they aren't my friends anymore and it's their loss.\"]"
      ]
     },
     "execution_count": 23,
     "metadata": {},
     "output_type": "execute_result"
    }
   ],
   "source": [
    "top_docs_per_topic[0]"
   ]
  },
  {
   "cell_type": "markdown",
   "id": "ae3d00cd",
   "metadata": {},
   "source": [
    "## Clear Allocated Memory"
   ]
  },
  {
   "cell_type": "code",
   "execution_count": 24,
   "id": "3bd0f078",
   "metadata": {},
   "outputs": [
    {
     "data": {
      "text/plain": [
       "0"
      ]
     },
     "execution_count": 24,
     "metadata": {},
     "output_type": "execute_result"
    }
   ],
   "source": [
    "# Run before exiting the program to clear memory\n",
    "%reset -f\n",
    "import gc\n",
    "gc.collect()"
   ]
  }
 ],
 "metadata": {
  "kernelspec": {
   "display_name": "venv",
   "language": "python",
   "name": "python3"
  },
  "language_info": {
   "codemirror_mode": {
    "name": "ipython",
    "version": 3
   },
   "file_extension": ".py",
   "mimetype": "text/x-python",
   "name": "python",
   "nbconvert_exporter": "python",
   "pygments_lexer": "ipython3",
   "version": "3.11.0"
  }
 },
 "nbformat": 4,
 "nbformat_minor": 5
}
