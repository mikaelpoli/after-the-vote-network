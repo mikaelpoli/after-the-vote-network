{
 "cells": [
  {
   "cell_type": "markdown",
   "id": "51265d87",
   "metadata": {},
   "source": [
    "# Topic Detection"
   ]
  },
  {
   "cell_type": "markdown",
   "id": "a762cefe",
   "metadata": {},
   "source": [
    "## Description\n",
    "Perform topic detection."
   ]
  },
  {
   "cell_type": "markdown",
   "id": "8d2596bc",
   "metadata": {},
   "source": [
    "## Setup"
   ]
  },
  {
   "cell_type": "markdown",
   "id": "b1c36104",
   "metadata": {},
   "source": [
    "### Libraries (Pyhton)"
   ]
  },
  {
   "cell_type": "code",
   "execution_count": 1,
   "id": "b0fca994",
   "metadata": {},
   "outputs": [],
   "source": [
    "from bertopic import BERTopic\n",
    "from collections import Counter\n",
    "from sklearn.feature_extraction.text import CountVectorizer\n",
    "import copy\n",
    "import igraph as ig\n",
    "import json\n",
    "import leidenalg\n",
    "import networkx as nx\n",
    "import numpy as np\n",
    "import os\n",
    "import pandas as pd\n",
    "import pickle\n",
    "from pathlib import Path\n",
    "import scipy.sparse as sps\n",
    "import sys\n",
    "from tqdm import tqdm\n",
    "import umap\n",
    "import warnings"
   ]
  },
  {
   "cell_type": "markdown",
   "id": "fceac21e",
   "metadata": {},
   "source": [
    "### Directories"
   ]
  },
  {
   "cell_type": "code",
   "execution_count": 2,
   "id": "5bda24a0",
   "metadata": {},
   "outputs": [],
   "source": [
    "try:\n",
    "    BASE_DIR = Path(__file__).resolve().parent\n",
    "except NameError:\n",
    "    BASE_DIR = Path().resolve()\n",
    "\n",
    "SRC_DIR = BASE_DIR / 'src'\n",
    "if str(SRC_DIR) not in sys.path:\n",
    "    sys.path.append(str(SRC_DIR))\n",
    "\n",
    "DATA_DIR = BASE_DIR / 'data'\n",
    "DATA_DIR.mkdir(exist_ok=True)\n",
    "POSTS_DIR = DATA_DIR / 'posts'\n",
    "POSTS_ALL_DIR = POSTS_DIR / 'all'\n",
    "POSTS_FILTERED_DIR = POSTS_DIR / 'filtered'\n",
    "POSTS_FILTERED_CLEAN_DIR = POSTS_FILTERED_DIR / 'clean'\n",
    "COMMENTS_DIR = DATA_DIR / 'comments'\n",
    "COMMENTS_CLEAN_DIR = COMMENTS_DIR / 'clean'\n",
    "RESULTS_DIR = BASE_DIR / 'results'\n",
    "RESULTS_GRAPHS_DIR = RESULTS_DIR / 'graphs'\n",
    "RESULTS_MODELS_DIR = RESULTS_DIR / 'models'\n",
    "RESULTS_MODELS_DIR.mkdir(exist_ok=True)\n",
    "RESULTS_MODELS_FILE = RESULTS_MODELS_DIR / 'model_results.csv'"
   ]
  },
  {
   "cell_type": "markdown",
   "id": "8ccaa0d1",
   "metadata": {},
   "source": [
    "### Libraries (Custom)"
   ]
  },
  {
   "cell_type": "code",
   "execution_count": 3,
   "id": "6f6db5bb",
   "metadata": {},
   "outputs": [],
   "source": [
    "import topic as t\n",
    "import metrics as met"
   ]
  },
  {
   "cell_type": "markdown",
   "id": "3dd0f5a1",
   "metadata": {},
   "source": [
    "## Import Data"
   ]
  },
  {
   "cell_type": "code",
   "execution_count": 4,
   "id": "06791b07",
   "metadata": {},
   "outputs": [
    {
     "name": "stdout",
     "output_type": "stream",
     "text": [
      "IGRAPH UNW- 15819 924974 -- \n",
      "+ attr: edge_default (g), node_default (g), _nx_name (v), name (v), weight (e)\n"
     ]
    }
   ],
   "source": [
    "# Graph\n",
    "filename = RESULTS_GRAPHS_DIR / 'g_dd.graphml'\n",
    "g_dd_nx = nx.read_graphml(str(filename))\n",
    "g_dd = ig.Graph.from_networkx(g_dd_nx)\n",
    "\n",
    "print(g_dd.summary())"
   ]
  },
  {
   "cell_type": "code",
   "execution_count": 5,
   "id": "e12d66e7",
   "metadata": {},
   "outputs": [],
   "source": [
    "# Matrices\n",
    "filename_pickle_gdd = RESULTS_GRAPHS_DIR / 'g_dd.pickle'\n",
    "with open(filename_pickle_gdd , 'rb') as f:\n",
    "    g_dd_matrices = pickle.load(f)"
   ]
  },
  {
   "cell_type": "code",
   "execution_count": 6,
   "id": "386e55cc",
   "metadata": {},
   "outputs": [],
   "source": [
    "# Original documents\n",
    "filename_df = DATA_DIR / 'df_dd.json'\n",
    "df_dd = pd.read_json(str(filename_df), lines=True)"
   ]
  },
  {
   "cell_type": "code",
   "execution_count": 7,
   "id": "b47b6035",
   "metadata": {},
   "outputs": [],
   "source": [
    "# Load BERTopic model\n",
    "filepath_bert = RESULTS_MODELS_DIR / 'bert'\n",
    "bert_model = BERTopic.load(str(filepath_bert))"
   ]
  },
  {
   "cell_type": "code",
   "execution_count": 12,
   "id": "8739fb36",
   "metadata": {},
   "outputs": [
    {
     "name": "stdout",
     "output_type": "stream",
     "text": [
      "--- Document-Projected Network (Giant Component) ---\n",
      "Size: 15819\n",
      "Average degree: 116.94\n",
      "Median degree: 50.00\n",
      "Density: 0.00739\n",
      "Diameter: 6.00\n",
      "Average path length: 2.51146\n"
     ]
    }
   ],
   "source": [
    "# Check basic stats\n",
    "print(\"--- Document-Projected Network (Giant Component) ---\")\n",
    "print(f\"Size: {g_dd.vcount()}\")\n",
    "print(f\"Average degree: {np.mean(g_dd.degree()):.2f}\")\n",
    "print(f\"Median degree: {np.median(g_dd.degree()):.2f}\")\n",
    "print(f\"Density: {g_dd.density():.5f}\")\n",
    "print(f\"Diameter: {g_dd.diameter(directed=False, unconn=False):.2f}\")\n",
    "print(f\"Average path length: {g_dd.average_path_length():.5f}\")"
   ]
  },
  {
   "cell_type": "markdown",
   "id": "04d3194f",
   "metadata": {},
   "source": [
    "## Leiden [NO NEED TO RE-RUN]"
   ]
  },
  {
   "cell_type": "code",
   "execution_count": 13,
   "id": "a9fd505f",
   "metadata": {},
   "outputs": [
    {
     "name": "stdout",
     "output_type": "stream",
     "text": [
      "Number of communities: 16\n"
     ]
    }
   ],
   "source": [
    "# Partition\n",
    "partition_leiden = leidenalg.find_partition(g_dd, leidenalg.ModularityVertexPartition, weights='weight', seed=42)\n",
    "print(f\"Number of communities: {len(partition_leiden)}\")\n",
    "\n",
    "# Access community assignments\n",
    "membership_leiden = partition_leiden.membership\n",
    "topics = np.array(membership_leiden)"
   ]
  },
  {
   "cell_type": "code",
   "execution_count": 14,
   "id": "89cb57f3",
   "metadata": {},
   "outputs": [],
   "source": [
    "# Get document IDs and corresponding Louvain topics\n",
    "leiden_df = pd.DataFrame({\n",
    "    'document_id': g_dd.vs['name'],\n",
    "    'leiden_topic': partition_leiden.membership\n",
    "})\n",
    "\n",
    "# df_dd = df_dd.merge(leiden_df, on='document_id', how='left')"
   ]
  },
  {
   "cell_type": "code",
   "execution_count": null,
   "id": "f2af572c",
   "metadata": {},
   "outputs": [],
   "source": [
    "# Save to JSON\n",
    "# df_dd.to_json(DATA_DIR / 'df_dd.json', orient='records', lines=True)"
   ]
  },
  {
   "cell_type": "markdown",
   "id": "d4bab687",
   "metadata": {},
   "source": [
    "### View Basic Info"
   ]
  },
  {
   "cell_type": "code",
   "execution_count": 15,
   "id": "4b4ccd00",
   "metadata": {},
   "outputs": [
    {
     "name": "stdout",
     "output_type": "stream",
     "text": [
      "Topic 0 has 4120 documents\n",
      "Topic 1 has 3194 documents\n",
      "Topic 2 has 2358 documents\n",
      "Topic 3 has 1263 documents\n",
      "Topic 4 has 928 documents\n",
      "Topic 5 has 840 documents\n",
      "Topic 6 has 784 documents\n",
      "Topic 7 has 676 documents\n",
      "Topic 8 has 615 documents\n",
      "Topic 9 has 315 documents\n",
      "Topic 10 has 264 documents\n",
      "Topic 11 has 230 documents\n",
      "Topic 12 has 201 documents\n",
      "Topic 13 has 22 documents\n",
      "Topic 14 has 5 documents\n",
      "Topic 15 has 4 documents\n"
     ]
    }
   ],
   "source": [
    "# View counts\n",
    "topic_counts = Counter(membership_leiden)\n",
    "\n",
    "for topic in sorted(topic_counts):\n",
    "    print(f\"Topic {topic} has {topic_counts[topic]} documents\")"
   ]
  },
  {
   "cell_type": "code",
   "execution_count": 16,
   "id": "ca65c3d7",
   "metadata": {},
   "outputs": [
    {
     "data": {
      "image/png": "[encoded data removed]",
      "text/plain": [
       "<Figure size 1200x600 with 2 Axes>"
      ]
     },
     "metadata": {},
     "output_type": "display_data"
    }
   ],
   "source": [
    "# Plot CtC\n",
    "num_docs, num_topics, C = t.extract_community_assignments(topics, topic_ids_start=1)\n",
    "t.plot_topic_pattern(num_docs, C, title_1='Leiden Relative Cluster Sizes', title_2='Leiden Cluster Block Pattern')"
   ]
  },
  {
   "cell_type": "markdown",
   "id": "d06bd3bd",
   "metadata": {},
   "source": [
    "### Metrics\n",
    "Modularity, NMI, Ncut."
   ]
  },
  {
   "cell_type": "code",
   "execution_count": 17,
   "id": "2070cdae",
   "metadata": {},
   "outputs": [],
   "source": [
    "# Normalize existing matrices\n",
    "Pwd = g_dd_matrices['Pwd'] / g_dd_matrices['Pwd'].sum()\n",
    "Pdd = g_dd_matrices['Pdd'] / g_dd_matrices['Pdd'].sum()"
   ]
  },
  {
   "cell_type": "code",
   "execution_count": 18,
   "id": "ed5affaa",
   "metadata": {},
   "outputs": [],
   "source": [
    "# Update topic matrices\n",
    "Pwc = Pwd.dot(C)              # Joint word + class probability\n",
    "Pcc = ((C.T).dot(Pdd)).dot(C) # Joint class + class probability\n",
    "pc = Pcc.sum(axis=0)          # Topic co-occurrence weights (node strength of each topic in the topic co-occurrence matrix)"
   ]
  },
  {
   "cell_type": "code",
   "execution_count": 19,
   "id": "654a81c9",
   "metadata": {},
   "outputs": [],
   "source": [
    "# Initialize results dict\n",
    "model_name = 'Leiden'\n",
    "metric_names = ['Modularity', 'Ncut', 'NMI']\n",
    "metrics = {model_name: {metric: np.nan for metric in metric_names}}"
   ]
  },
  {
   "cell_type": "code",
   "execution_count": 20,
   "id": "04f78f01",
   "metadata": {},
   "outputs": [
    {
     "name": "stdout",
     "output_type": "stream",
     "text": [
      "NMI: 0.1238\n",
      "Modularity: 0.2732\n",
      "Ncut: 0.5570\n",
      "Results saved to .csv\n"
     ]
    }
   ],
   "source": [
    "# Compute metrics\n",
    "metrics[model_name]['Modularity'] = met.calculate_modularity(Pcc)\n",
    "metrics[model_name]['Ncut'] = met.calculate_ncut(Pcc)\n",
    "metrics[model_name]['NMI'] = met.calculate_nmi(Pwc)\n",
    "\n",
    "# Print results\n",
    "print(f\"NMI: {metrics[model_name]['NMI']:.4f}\")\n",
    "print(f\"Modularity: {metrics[model_name]['Modularity']:.4f}\")\n",
    "print(f\"Ncut: {metrics[model_name]['Ncut']:.4f}\")\n",
    "\n",
    "met.save_results_to_csv(RESULTS_MODELS_FILE, metrics, metric_names, model_name)\n",
    "print(\"Results saved to .csv\")"
   ]
  },
  {
   "cell_type": "markdown",
   "id": "3d5e6be7",
   "metadata": {},
   "source": [
    "### Topic interpretation"
   ]
  },
  {
   "cell_type": "markdown",
   "id": "852059ff",
   "metadata": {},
   "source": [
    "#### Fine-tune with GPT [NO NEED TO RUN]"
   ]
  },
  {
   "cell_type": "code",
   "execution_count": 21,
   "id": "fc8ef2e6",
   "metadata": {},
   "outputs": [],
   "source": [
    "# Get representative documents\n",
    "repr_docs_idx_leiden = t.get_louvain_community_reps(g_dd, topics, top_k=10)\n",
    "doc_id_to_text = dict(zip(df_dd['document_id'], df_dd['og_text']))\n",
    "\n",
    "# Build the new dictionary\n",
    "repr_docs_text_leiden = {\n",
    "    topic: [doc_id_to_text[doc_id] for doc_id in doc_ids if doc_id in doc_id_to_text]\n",
    "    for topic, doc_ids in repr_docs_idx_leiden.items()\n",
    "}"
   ]
  },
  {
   "cell_type": "code",
   "execution_count": null,
   "id": "4d8c8e4c",
   "metadata": {},
   "outputs": [],
   "source": [
    "# Prepare dictionary for fine-tuned labels\n",
    "# topic_labels = {i: {} for i in range(16)}"
   ]
  },
  {
   "cell_type": "markdown",
   "id": "6c9a3c18",
   "metadata": {},
   "source": [
    "Prompt ChatGPT (each topic requires a new chat) with:\n",
    "\n",
    "Based on the following documents from the same topic, generate:\n",
    "    1. A concise topic label (3–6 words).\n",
    "    2. A short summary (1–2 sentences) describing the topic's content.\n",
    "\n",
    "\"Documnt 1: ... \"\n",
    "\"Document 2: ... \"\n",
    "\"Document 3: ... \"\n",
    "\"Document 4: ... \"\n",
    "\"Document 5: ... \"\n",
    "\"Document ... \""
   ]
  },
  {
   "cell_type": "code",
   "execution_count": null,
   "id": "f71e110b",
   "metadata": {},
   "outputs": [],
   "source": [
    "# Print top documents in a topic\n",
    "# topic_number = 15\n",
    "# t.print_top_docs(topic_number, repr_docs_text_leiden)"
   ]
  },
  {
   "cell_type": "code",
   "execution_count": null,
   "id": "6c8d371e",
   "metadata": {},
   "outputs": [
    {
     "name": "stdout",
     "output_type": "stream",
     "text": [
      "Topic: 15\n"
     ]
    },
    {
     "data": {
      "text/plain": [
       "{'gpt_label': 'Trans Identity and Social Reactions',\n",
       " 'gpt_summary': 'The documents express strong skepticism and criticism toward transgender identities and related social issues, often dismissing or mocking the experiences and claims of trans people. The tone reflects contentious and hostile attitudes in discussions about gender identity.'}"
      ]
     },
     "execution_count": 77,
     "metadata": {},
     "output_type": "execute_result"
    }
   ],
   "source": [
    "# Update topics with fine-tuned labels and summaries\n",
    "# topic_labels[topic_number]['gpt_label'] = \"Trans Identity and Social Reactions\"\n",
    "# topic_labels[topic_number]['gpt_summary'] = \"The documents express strong skepticism and criticism toward transgender identities and related social issues, often dismissing or mocking the experiences and claims of trans people. The tone reflects contentious and hostile attitudes in discussions about gender identity.\"\n",
    "\n",
    "# Check correctness\n",
    "# print(f\"Topic: {topic_number}\")\n",
    "# topic_labels[topic_number]"
   ]
  },
  {
   "cell_type": "code",
   "execution_count": null,
   "id": "59861e65",
   "metadata": {},
   "outputs": [],
   "source": [
    "# Save to JSON\n",
    "# sorted_data = {k: topic_labels[k] for k in sorted(topic_labels, key=int)}\n",
    "# filename_leiden_tuned_topics = RESULTS_MODELS_DIR / 'leiden' / 'fine_tuned_topics_sorted.json'\n",
    "# with open(filename_leiden_tuned_topics, 'w') as file:\n",
    "    # json.dump(sorted_data, file, indent=4)"
   ]
  },
  {
   "cell_type": "code",
   "execution_count": 81,
   "id": "15f01b42",
   "metadata": {},
   "outputs": [],
   "source": [
    "# Load JSON\n",
    "filename_leiden_tuned_topics = RESULTS_MODELS_DIR / 'leiden' / 'fine_tuned_topics_sorted.json'\n",
    "with open(filename_leiden_tuned_topics, 'r') as f:\n",
    "    data = json.load(f)\n",
    "\n",
    "topic_labels_leiden = {int(k): v for k, v in data.items()}\n",
    "topic_labels_dict = {i+1: topic_labels_leiden[i]['gpt_label'] for i in range(16)}"
   ]
  },
  {
   "cell_type": "markdown",
   "id": "ec9c0df9",
   "metadata": {},
   "source": [
    "### Visualize Topics"
   ]
  },
  {
   "cell_type": "code",
   "execution_count": 83,
   "id": "eaf67912",
   "metadata": {},
   "outputs": [],
   "source": [
    "# Transform to BERTopic-style for visualization\n",
    "leiden_to_bertopic_stile = t.to_bertopic_style(bert_model, list(df_dd['clean_text']), list(df_dd['leiden_topic']), fine_tuned_labels=topic_labels_dict)"
   ]
  },
  {
   "cell_type": "code",
   "execution_count": 85,
   "id": "df71a95d",
   "metadata": {},
   "outputs": [
    {
     "data": {
      "application/vnd.plotly.v1+json": {
       "config": {
        "plotlyServerURL": "https://plot.ly"
       },
       "data": [
        {
         "marker": {
          "color": "#D55E00"
         },
         "orientation": "h",
         "type": "bar",
         "x": [
          0.0158998376357503,
          0.016749224114928837,
          0.022618089234360032,
          0.02344459380272614,
          0.026249014667125
         ],
         "xaxis": "x",
         "y": [
          "care  ",
          "would  ",
          "trans  ",
          "us  ",
          "people  "
         ],
         "yaxis": "y"
        },
        {
         "marker": {
          "color": "#0072B2"
         },
         "orientation": "h",
         "type": "bar",
         "x": [
          0.018677507024261786,
          0.022290712640766333,
          0.026485023754910905,
          0.026516502602811454,
          0.030215289165692643
         ],
         "xaxis": "x2",
         "y": [
          "know  ",
          "would  ",
          "people  ",
          "like  ",
          "trans  "
         ],
         "yaxis": "y2"
        },
        {
         "marker": {
          "color": "#CC79A7"
         },
         "orientation": "h",
         "type": "bar",
         "x": [
          0.017375121971861206,
          0.018162116630645556,
          0.018683312864491094,
          0.022688857110055558,
          0.026291141126854805
         ],
         "xaxis": "x3",
         "y": [
          "hrt  ",
          "like  ",
          "would  ",
          "trans  ",
          "puberty  "
         ],
         "yaxis": "y3"
        },
        {
         "marker": {
          "color": "#E69F00"
         },
         "orientation": "h",
         "type": "bar",
         "x": [
          0.021223421787996348,
          0.022095550169581257,
          0.02259877941882156,
          0.026433320821574312,
          0.03653214396184187
         ],
         "xaxis": "x4",
         "y": [
          "christian  ",
          "hate  ",
          "trans  ",
          "christians  ",
          "people  "
         ],
         "yaxis": "y4"
        },
        {
         "marker": {
          "color": "#56B4E9"
         },
         "orientation": "h",
         "type": "bar",
         "x": [
          0.019673340274582774,
          0.02033600015743241,
          0.020338210542287984,
          0.02245626488271682,
          0.0229671033643221
         ],
         "xaxis": "x5",
         "y": [
          "would  ",
          "get  ",
          "wear  ",
          "like  ",
          "cold  "
         ],
         "yaxis": "y5"
        },
        {
         "marker": {
          "color": "#009E73"
         },
         "orientation": "h",
         "type": "bar",
         "x": [
          0.03559610879330692,
          0.03574015438296191,
          0.040752577545081395,
          0.04983513785487042,
          0.06751265888114157
         ],
         "xaxis": "x6",
         "y": [
          "culture  ",
          "people  ",
          "white  ",
          "japanese  ",
          "name  "
         ],
         "yaxis": "y6"
        },
        {
         "marker": {
          "color": "#F0E442"
         },
         "orientation": "h",
         "type": "bar",
         "x": [
          0.021186057838621788,
          0.026723265159095375,
          0.029552074448657865,
          0.030141196683906926,
          0.033158125513742136
         ],
         "xaxis": "x7",
         "y": [
          "blahaj  ",
          "like  ",
          "porn  ",
          "trans  ",
          "people  "
         ],
         "yaxis": "y7"
        },
        {
         "marker": {
          "color": "#D55E00"
         },
         "orientation": "h",
         "type": "bar",
         "x": [
          0.02256716751396908,
          0.023588334582751072,
          0.02405820627005812,
          0.02555736030598288,
          0.029184470206003895
         ],
         "xaxis": "x8",
         "y": [
          "certificate  ",
          "birth  ",
          "like  ",
          "get  ",
          "id  "
         ],
         "yaxis": "y8"
        },
        {
         "marker": {
          "color": "#0072B2"
         },
         "orientation": "h",
         "type": "bar",
         "x": [
          0.01735261210389448,
          0.02084709217392753,
          0.024193856578040435,
          0.02670810684127418,
          0.048937950178739864
         ],
         "xaxis": "x9",
         "y": [
          "rowling  ",
          "like  ",
          "people  ",
          "trans  ",
          "disney  "
         ],
         "yaxis": "y9"
        },
        {
         "marker": {
          "color": "#CC79A7"
         },
         "orientation": "h",
         "type": "bar",
         "x": [
          0.051339134104127486,
          0.053421350493721674,
          0.06351635006279287,
          0.07841701538774508,
          0.0913966988211867
         ],
         "xaxis": "x10",
         "y": [
          "gendered  ",
          "guys  ",
          "dude  ",
          "neutral  ",
          "bro  "
         ],
         "yaxis": "y10"
        },
        {
         "marker": {
          "color": "#E69F00"
         },
         "orientation": "h",
         "type": "bar",
         "x": [
          0.03275460293361033,
          0.03552236316614556,
          0.04770644295296312,
          0.05912474077953549,
          0.05943692948902432
         ],
         "xaxis": "x11",
         "y": [
          "help  ",
          "hugs  ",
          "concerning  ",
          "hints  ",
          "resources  "
         ],
         "yaxis": "y11"
        },
        {
         "marker": {
          "color": "#56B4E9"
         },
         "orientation": "h",
         "type": "bar",
         "x": [
          0.038024031997705744,
          0.040026047346737495,
          0.045867667148561886,
          0.049941031608547695,
          0.0582409600383559
         ],
         "xaxis": "x12",
         "y": [
          "gender  ",
          "fish  ",
          "sexual  ",
          "sex  ",
          "animals  "
         ],
         "yaxis": "y12"
        },
        {
         "marker": {
          "color": "#009E73"
         },
         "orientation": "h",
         "type": "bar",
         "x": [
          0.04211934097129469,
          0.045189815344120955,
          0.05274721961934961,
          0.05366958897641382,
          0.09534086900981353
         ],
         "xaxis": "x13",
         "y": [
          "awesome  ",
          "school  ",
          "shooting  ",
          "omg  ",
          "shooter  "
         ],
         "yaxis": "y13"
        }
       ],
       "layout": {
        "annotations": [
         {
          "font": {
           "size": 16
          },
          "showarrow": false,
          "text": "Erosion of Trans Rights in U.S.",
          "x": 0.0875,
          "xanchor": "center",
          "xref": "paper",
          "y": 1,
          "yanchor": "bottom",
          "yref": "paper"
         },
         {
          "font": {
           "size": 16
          },
          "showarrow": false,
          "text": "Trans and Intersex Identity Struggles",
          "x": 0.36250000000000004,
          "xanchor": "center",
          "xref": "paper",
          "y": 1,
          "yanchor": "bottom",
          "yref": "paper"
         },
         {
          "font": {
           "size": 16
          },
          "showarrow": false,
          "text": "Comprehensive Care for Transgender Youth",
          "x": 0.6375000000000001,
          "xanchor": "center",
          "xref": "paper",
          "y": 1,
          "yanchor": "bottom",
          "yref": "paper"
         },
         {
          "font": {
           "size": 16
          },
          "showarrow": false,
          "text": "Christianity, Transgender Identity, and Conflict",
          "x": 0.9125,
          "xanchor": "center",
          "xref": "paper",
          "y": 1,
          "yanchor": "bottom",
          "yref": "paper"
         },
         {
          "font": {
           "size": 16
          },
          "showarrow": false,
          "text": "Body Temperature and TSA Screening Experiences",
          "x": 0.0875,
          "xanchor": "center",
          "xref": "paper",
          "y": 0.7250000000000001,
          "yanchor": "bottom",
          "yref": "paper"
         },
         {
          "font": {
           "size": 16
          },
          "showarrow": false,
          "text": "Adoption of Asian Names Debate",
          "x": 0.36250000000000004,
          "xanchor": "center",
          "xref": "paper",
          "y": 0.7250000000000001,
          "yanchor": "bottom",
          "yref": "paper"
         },
         {
          "font": {
           "size": 16
          },
          "showarrow": false,
          "text": "Trans Identity, Pronouns, and Sexualization Debates",
          "x": 0.6375000000000001,
          "xanchor": "center",
          "xref": "paper",
          "y": 0.7250000000000001,
          "yanchor": "bottom",
          "yref": "paper"
         },
         {
          "font": {
           "size": 16
          },
          "showarrow": false,
          "text": "Transgender ID and Legal Document Changes",
          "x": 0.9125,
          "xanchor": "center",
          "xref": "paper",
          "y": 0.7250000000000001,
          "yanchor": "bottom",
          "yref": "paper"
         },
         {
          "font": {
           "size": 16
          },
          "showarrow": false,
          "text": "LGBTQ+ Representation and Controversies in Media",
          "x": 0.0875,
          "xanchor": "center",
          "xref": "paper",
          "y": 0.45,
          "yanchor": "bottom",
          "yref": "paper"
         },
         {
          "font": {
           "size": 16
          },
          "showarrow": false,
          "text": "Gendered Language and Wordplay on Units",
          "x": 0.36250000000000004,
          "xanchor": "center",
          "xref": "paper",
          "y": 0.45,
          "yanchor": "bottom",
          "yref": "paper"
         },
         {
          "font": {
           "size": 16
          },
          "showarrow": false,
          "text": "Transgender Support and Legal Context",
          "x": 0.6375000000000001,
          "xanchor": "center",
          "xref": "paper",
          "y": 0.45,
          "yanchor": "bottom",
          "yref": "paper"
         },
         {
          "font": {
           "size": 16
          },
          "showarrow": false,
          "text": "Sex Diversity and Gender in Animals",
          "x": 0.9125,
          "xanchor": "center",
          "xref": "paper",
          "y": 0.45,
          "yanchor": "bottom",
          "yref": "paper"
         },
         {
          "font": {
           "size": 16
          },
          "showarrow": false,
          "text": "School Shooter Narratives & Misrepresentation",
          "x": 0.0875,
          "xanchor": "center",
          "xref": "paper",
          "y": 0.175,
          "yanchor": "bottom",
          "yref": "paper"
         }
        ],
        "height": 1000,
        "hoverlabel": {
         "bgcolor": "white",
         "font": {
          "family": "Rockwell",
          "size": 16
         }
        },
        "showlegend": false,
        "template": {
         "data": {
          "bar": [
           {
            "error_x": {
             "color": "#2a3f5f"
            },
            "error_y": {
             "color": "#2a3f5f"
            },
            "marker": {
             "line": {
              "color": "white",
              "width": 0.5
             },
             "pattern": {
              "fillmode": "overlay",
              "size": 10,
              "solidity": 0.2
             }
            },
            "type": "bar"
           }
          ],
          "barpolar": [
           {
            "marker": {
             "line": {
              "color": "white",
              "width": 0.5
             },
             "pattern": {
              "fillmode": "overlay",
              "size": 10,
              "solidity": 0.2
             }
            },
            "type": "barpolar"
           }
          ],
          "carpet": [
           {
            "aaxis": {
             "endlinecolor": "#2a3f5f",
             "gridcolor": "#C8D4E3",
             "linecolor": "#C8D4E3",
             "minorgridcolor": "#C8D4E3",
             "startlinecolor": "#2a3f5f"
            },
            "baxis": {
             "endlinecolor": "#2a3f5f",
             "gridcolor": "#C8D4E3",
             "linecolor": "#C8D4E3",
             "minorgridcolor": "#C8D4E3",
             "startlinecolor": "#2a3f5f"
            },
            "type": "carpet"
           }
          ],
          "choropleth": [
           {
            "colorbar": {
             "outlinewidth": 0,
             "ticks": ""
            },
            "type": "choropleth"
           }
          ],
          "contour": [
           {
            "colorbar": {
             "outlinewidth": 0,
             "ticks": ""
            },
            "colorscale": [
             [
              0,
              "#0d0887"
             ],
             [
              0.1111111111111111,
              "#46039f"
             ],
             [
              0.2222222222222222,
              "#7201a8"
             ],
             [
              0.3333333333333333,
              "#9c179e"
             ],
             [
              0.4444444444444444,
              "#bd3786"
             ],
             [
              0.5555555555555556,
              "#d8576b"
             ],
             [
              0.6666666666666666,
              "#ed7953"
             ],
             [
              0.7777777777777778,
              "#fb9f3a"
             ],
             [
              0.8888888888888888,
              "#fdca26"
             ],
             [
              1,
              "#f0f921"
             ]
            ],
            "type": "contour"
           }
          ],
          "contourcarpet": [
           {
            "colorbar": {
             "outlinewidth": 0,
             "ticks": ""
            },
            "type": "contourcarpet"
           }
          ],
          "heatmap": [
           {
            "colorbar": {
             "outlinewidth": 0,
             "ticks": ""
            },
            "colorscale": [
             [
              0,
              "#0d0887"
             ],
             [
              0.1111111111111111,
              "#46039f"
             ],
             [
              0.2222222222222222,
              "#7201a8"
             ],
             [
              0.3333333333333333,
              "#9c179e"
             ],
             [
              0.4444444444444444,
              "#bd3786"
             ],
             [
              0.5555555555555556,
              "#d8576b"
             ],
             [
              0.6666666666666666,
              "#ed7953"
             ],
             [
              0.7777777777777778,
              "#fb9f3a"
             ],
             [
              0.8888888888888888,
              "#fdca26"
             ],
             [
              1,
              "#f0f921"
             ]
            ],
            "type": "heatmap"
           }
          ],
          "histogram": [
           {
            "marker": {
             "pattern": {
              "fillmode": "overlay",
              "size": 10,
              "solidity": 0.2
             }
            },
            "type": "histogram"
           }
          ],
          "histogram2d": [
           {
            "colorbar": {
             "outlinewidth": 0,
             "ticks": ""
            },
            "colorscale": [
             [
              0,
              "#0d0887"
             ],
             [
              0.1111111111111111,
              "#46039f"
             ],
             [
              0.2222222222222222,
              "#7201a8"
             ],
             [
              0.3333333333333333,
              "#9c179e"
             ],
             [
              0.4444444444444444,
              "#bd3786"
             ],
             [
              0.5555555555555556,
              "#d8576b"
             ],
             [
              0.6666666666666666,
              "#ed7953"
             ],
             [
              0.7777777777777778,
              "#fb9f3a"
             ],
             [
              0.8888888888888888,
              "#fdca26"
             ],
             [
              1,
              "#f0f921"
             ]
            ],
            "type": "histogram2d"
           }
          ],
          "histogram2dcontour": [
           {
            "colorbar": {
             "outlinewidth": 0,
             "ticks": ""
            },
            "colorscale": [
             [
              0,
              "#0d0887"
             ],
             [
              0.1111111111111111,
              "#46039f"
             ],
             [
              0.2222222222222222,
              "#7201a8"
             ],
             [
              0.3333333333333333,
              "#9c179e"
             ],
             [
              0.4444444444444444,
              "#bd3786"
             ],
             [
              0.5555555555555556,
              "#d8576b"
             ],
             [
              0.6666666666666666,
              "#ed7953"
             ],
             [
              0.7777777777777778,
              "#fb9f3a"
             ],
             [
              0.8888888888888888,
              "#fdca26"
             ],
             [
              1,
              "#f0f921"
             ]
            ],
            "type": "histogram2dcontour"
           }
          ],
          "mesh3d": [
           {
            "colorbar": {
             "outlinewidth": 0,
             "ticks": ""
            },
            "type": "mesh3d"
           }
          ],
          "parcoords": [
           {
            "line": {
             "colorbar": {
              "outlinewidth": 0,
              "ticks": ""
             }
            },
            "type": "parcoords"
           }
          ],
          "pie": [
           {
            "automargin": true,
            "type": "pie"
           }
          ],
          "scatter": [
           {
            "fillpattern": {
             "fillmode": "overlay",
             "size": 10,
             "solidity": 0.2
            },
            "type": "scatter"
           }
          ],
          "scatter3d": [
           {
            "line": {
             "colorbar": {
              "outlinewidth": 0,
              "ticks": ""
             }
            },
            "marker": {
             "colorbar": {
              "outlinewidth": 0,
              "ticks": ""
             }
            },
            "type": "scatter3d"
           }
          ],
          "scattercarpet": [
           {
            "marker": {
             "colorbar": {
              "outlinewidth": 0,
              "ticks": ""
             }
            },
            "type": "scattercarpet"
           }
          ],
          "scattergeo": [
           {
            "marker": {
             "colorbar": {
              "outlinewidth": 0,
              "ticks": ""
             }
            },
            "type": "scattergeo"
           }
          ],
          "scattergl": [
           {
            "marker": {
             "colorbar": {
              "outlinewidth": 0,
              "ticks": ""
             }
            },
            "type": "scattergl"
           }
          ],
          "scattermap": [
           {
            "marker": {
             "colorbar": {
              "outlinewidth": 0,
              "ticks": ""
             }
            },
            "type": "scattermap"
           }
          ],
          "scattermapbox": [
           {
            "marker": {
             "colorbar": {
              "outlinewidth": 0,
              "ticks": ""
             }
            },
            "type": "scattermapbox"
           }
          ],
          "scatterpolar": [
           {
            "marker": {
             "colorbar": {
              "outlinewidth": 0,
              "ticks": ""
             }
            },
            "type": "scatterpolar"
           }
          ],
          "scatterpolargl": [
           {
            "marker": {
             "colorbar": {
              "outlinewidth": 0,
              "ticks": ""
             }
            },
            "type": "scatterpolargl"
           }
          ],
          "scatterternary": [
           {
            "marker": {
             "colorbar": {
              "outlinewidth": 0,
              "ticks": ""
             }
            },
            "type": "scatterternary"
           }
          ],
          "surface": [
           {
            "colorbar": {
             "outlinewidth": 0,
             "ticks": ""
            },
            "colorscale": [
             [
              0,
              "#0d0887"
             ],
             [
              0.1111111111111111,
              "#46039f"
             ],
             [
              0.2222222222222222,
              "#7201a8"
             ],
             [
              0.3333333333333333,
              "#9c179e"
             ],
             [
              0.4444444444444444,
              "#bd3786"
             ],
             [
              0.5555555555555556,
              "#d8576b"
             ],
             [
              0.6666666666666666,
              "#ed7953"
             ],
             [
              0.7777777777777778,
              "#fb9f3a"
             ],
             [
              0.8888888888888888,
              "#fdca26"
             ],
             [
              1,
              "#f0f921"
             ]
            ],
            "type": "surface"
           }
          ],
          "table": [
           {
            "cells": {
             "fill": {
              "color": "#EBF0F8"
             },
             "line": {
              "color": "white"
             }
            },
            "header": {
             "fill": {
              "color": "#C8D4E3"
             },
             "line": {
              "color": "white"
             }
            },
            "type": "table"
           }
          ]
         },
         "layout": {
          "annotationdefaults": {
           "arrowcolor": "#2a3f5f",
           "arrowhead": 0,
           "arrowwidth": 1
          },
          "autotypenumbers": "strict",
          "coloraxis": {
           "colorbar": {
            "outlinewidth": 0,
            "ticks": ""
           }
          },
          "colorscale": {
           "diverging": [
            [
             0,
             "#8e0152"
            ],
            [
             0.1,
             "#c51b7d"
            ],
            [
             0.2,
             "#de77ae"
            ],
            [
             0.3,
             "#f1b6da"
            ],
            [
             0.4,
             "#fde0ef"
            ],
            [
             0.5,
             "#f7f7f7"
            ],
            [
             0.6,
             "#e6f5d0"
            ],
            [
             0.7,
             "#b8e186"
            ],
            [
             0.8,
             "#7fbc41"
            ],
            [
             0.9,
             "#4d9221"
            ],
            [
             1,
             "#276419"
            ]
           ],
           "sequential": [
            [
             0,
             "#0d0887"
            ],
            [
             0.1111111111111111,
             "#46039f"
            ],
            [
             0.2222222222222222,
             "#7201a8"
            ],
            [
             0.3333333333333333,
             "#9c179e"
            ],
            [
             0.4444444444444444,
             "#bd3786"
            ],
            [
             0.5555555555555556,
             "#d8576b"
            ],
            [
             0.6666666666666666,
             "#ed7953"
            ],
            [
             0.7777777777777778,
             "#fb9f3a"
            ],
            [
             0.8888888888888888,
             "#fdca26"
            ],
            [
             1,
             "#f0f921"
            ]
           ],
           "sequentialminus": [
            [
             0,
             "#0d0887"
            ],
            [
             0.1111111111111111,
             "#46039f"
            ],
            [
             0.2222222222222222,
             "#7201a8"
            ],
            [
             0.3333333333333333,
             "#9c179e"
            ],
            [
             0.4444444444444444,
             "#bd3786"
            ],
            [
             0.5555555555555556,
             "#d8576b"
            ],
            [
             0.6666666666666666,
             "#ed7953"
            ],
            [
             0.7777777777777778,
             "#fb9f3a"
            ],
            [
             0.8888888888888888,
             "#fdca26"
            ],
            [
             1,
             "#f0f921"
            ]
           ]
          },
          "colorway": [
           "#636efa",
           "#EF553B",
           "#00cc96",
           "#ab63fa",
           "#FFA15A",
           "#19d3f3",
           "#FF6692",
           "#B6E880",
           "#FF97FF",
           "#FECB52"
          ],
          "font": {
           "color": "#2a3f5f"
          },
          "geo": {
           "bgcolor": "white",
           "lakecolor": "white",
           "landcolor": "white",
           "showlakes": true,
           "showland": true,
           "subunitcolor": "#C8D4E3"
          },
          "hoverlabel": {
           "align": "left"
          },
          "hovermode": "closest",
          "mapbox": {
           "style": "light"
          },
          "paper_bgcolor": "white",
          "plot_bgcolor": "white",
          "polar": {
           "angularaxis": {
            "gridcolor": "#EBF0F8",
            "linecolor": "#EBF0F8",
            "ticks": ""
           },
           "bgcolor": "white",
           "radialaxis": {
            "gridcolor": "#EBF0F8",
            "linecolor": "#EBF0F8",
            "ticks": ""
           }
          },
          "scene": {
           "xaxis": {
            "backgroundcolor": "white",
            "gridcolor": "#DFE8F3",
            "gridwidth": 2,
            "linecolor": "#EBF0F8",
            "showbackground": true,
            "ticks": "",
            "zerolinecolor": "#EBF0F8"
           },
           "yaxis": {
            "backgroundcolor": "white",
            "gridcolor": "#DFE8F3",
            "gridwidth": 2,
            "linecolor": "#EBF0F8",
            "showbackground": true,
            "ticks": "",
            "zerolinecolor": "#EBF0F8"
           },
           "zaxis": {
            "backgroundcolor": "white",
            "gridcolor": "#DFE8F3",
            "gridwidth": 2,
            "linecolor": "#EBF0F8",
            "showbackground": true,
            "ticks": "",
            "zerolinecolor": "#EBF0F8"
           }
          },
          "shapedefaults": {
           "line": {
            "color": "#2a3f5f"
           }
          },
          "ternary": {
           "aaxis": {
            "gridcolor": "#DFE8F3",
            "linecolor": "#A2B1C6",
            "ticks": ""
           },
           "baxis": {
            "gridcolor": "#DFE8F3",
            "linecolor": "#A2B1C6",
            "ticks": ""
           },
           "bgcolor": "white",
           "caxis": {
            "gridcolor": "#DFE8F3",
            "linecolor": "#A2B1C6",
            "ticks": ""
           }
          },
          "title": {
           "x": 0.05
          },
          "xaxis": {
           "automargin": true,
           "gridcolor": "#EBF0F8",
           "linecolor": "#EBF0F8",
           "ticks": "",
           "title": {
            "standoff": 15
           },
           "zerolinecolor": "#EBF0F8",
           "zerolinewidth": 2
          },
          "yaxis": {
           "automargin": true,
           "gridcolor": "#EBF0F8",
           "linecolor": "#EBF0F8",
           "ticks": "",
           "title": {
            "standoff": 15
           },
           "zerolinecolor": "#EBF0F8",
           "zerolinewidth": 2
          }
         }
        },
        "title": {
         "font": {
          "color": "Black",
          "size": 22
         },
         "text": "Leiden Topic Word Scores",
         "x": 0.5,
         "xanchor": "center",
         "yanchor": "top"
        },
        "width": 1800,
        "xaxis": {
         "anchor": "y",
         "domain": [
          0,
          0.175
         ],
         "showgrid": true
        },
        "xaxis10": {
         "anchor": "y10",
         "domain": [
          0.275,
          0.45
         ],
         "showgrid": true
        },
        "xaxis11": {
         "anchor": "y11",
         "domain": [
          0.55,
          0.7250000000000001
         ],
         "showgrid": true
        },
        "xaxis12": {
         "anchor": "y12",
         "domain": [
          0.825,
          1
         ],
         "showgrid": true
        },
        "xaxis13": {
         "anchor": "y13",
         "domain": [
          0,
          0.175
         ],
         "showgrid": true
        },
        "xaxis14": {
         "anchor": "y14",
         "domain": [
          0.275,
          0.45
         ],
         "showgrid": true
        },
        "xaxis15": {
         "anchor": "y15",
         "domain": [
          0.55,
          0.7250000000000001
         ],
         "showgrid": true
        },
        "xaxis16": {
         "anchor": "y16",
         "domain": [
          0.825,
          1
         ],
         "showgrid": true
        },
        "xaxis2": {
         "anchor": "y2",
         "domain": [
          0.275,
          0.45
         ],
         "showgrid": true
        },
        "xaxis3": {
         "anchor": "y3",
         "domain": [
          0.55,
          0.7250000000000001
         ],
         "showgrid": true
        },
        "xaxis4": {
         "anchor": "y4",
         "domain": [
          0.825,
          1
         ],
         "showgrid": true
        },
        "xaxis5": {
         "anchor": "y5",
         "domain": [
          0,
          0.175
         ],
         "showgrid": true
        },
        "xaxis6": {
         "anchor": "y6",
         "domain": [
          0.275,
          0.45
         ],
         "showgrid": true
        },
        "xaxis7": {
         "anchor": "y7",
         "domain": [
          0.55,
          0.7250000000000001
         ],
         "showgrid": true
        },
        "xaxis8": {
         "anchor": "y8",
         "domain": [
          0.825,
          1
         ],
         "showgrid": true
        },
        "xaxis9": {
         "anchor": "y9",
         "domain": [
          0,
          0.175
         ],
         "showgrid": true
        },
        "yaxis": {
         "anchor": "x",
         "domain": [
          0.825,
          1
         ],
         "showgrid": true
        },
        "yaxis10": {
         "anchor": "x10",
         "domain": [
          0.275,
          0.45
         ],
         "showgrid": true
        },
        "yaxis11": {
         "anchor": "x11",
         "domain": [
          0.275,
          0.45
         ],
         "showgrid": true
        },
        "yaxis12": {
         "anchor": "x12",
         "domain": [
          0.275,
          0.45
         ],
         "showgrid": true
        },
        "yaxis13": {
         "anchor": "x13",
         "domain": [
          0,
          0.175
         ],
         "showgrid": true
        },
        "yaxis14": {
         "anchor": "x14",
         "domain": [
          0,
          0.175
         ],
         "showgrid": true
        },
        "yaxis15": {
         "anchor": "x15",
         "domain": [
          0,
          0.175
         ],
         "showgrid": true
        },
        "yaxis16": {
         "anchor": "x16",
         "domain": [
          0,
          0.175
         ],
         "showgrid": true
        },
        "yaxis2": {
         "anchor": "x2",
         "domain": [
          0.825,
          1
         ],
         "showgrid": true
        },
        "yaxis3": {
         "anchor": "x3",
         "domain": [
          0.825,
          1
         ],
         "showgrid": true
        },
        "yaxis4": {
         "anchor": "x4",
         "domain": [
          0.825,
          1
         ],
         "showgrid": true
        },
        "yaxis5": {
         "anchor": "x5",
         "domain": [
          0.55,
          0.7250000000000001
         ],
         "showgrid": true
        },
        "yaxis6": {
         "anchor": "x6",
         "domain": [
          0.55,
          0.7250000000000001
         ],
         "showgrid": true
        },
        "yaxis7": {
         "anchor": "x7",
         "domain": [
          0.55,
          0.7250000000000001
         ],
         "showgrid": true
        },
        "yaxis8": {
         "anchor": "x8",
         "domain": [
          0.55,
          0.7250000000000001
         ],
         "showgrid": true
        },
        "yaxis9": {
         "anchor": "x9",
         "domain": [
          0.275,
          0.45
         ],
         "showgrid": true
        }
       }
      }
     },
     "metadata": {},
     "output_type": "display_data"
    }
   ],
   "source": [
    "leiden_to_bertopic_stile.visualize_barchart(top_n_topics=13, n_words=5, width=450, title=\"Leiden Topic Word Scores\", custom_labels=True)"
   ]
  }
 ],
 "metadata": {
  "kernelspec": {
   "display_name": "venv",
   "language": "python",
   "name": "python3"
  },
  "language_info": {
   "codemirror_mode": {
    "name": "ipython",
    "version": 3
   },
   "file_extension": ".py",
   "mimetype": "text/x-python",
   "name": "python",
   "nbconvert_exporter": "python",
   "pygments_lexer": "ipython3",
   "version": "3.11.0"
  }
 },
 "nbformat": 4,
 "nbformat_minor": 5
}
