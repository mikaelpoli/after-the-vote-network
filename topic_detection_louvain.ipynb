{
 "cells": [
  {
   "cell_type": "markdown",
   "id": "77eb783a",
   "metadata": {},
   "source": [
    "# Topic Detection"
   ]
  },
  {
   "cell_type": "markdown",
   "id": "b0dba8a9",
   "metadata": {},
   "source": [
    "## Description\n",
    "Perform topic detection."
   ]
  },
  {
   "cell_type": "markdown",
   "id": "28a67303",
   "metadata": {},
   "source": [
    "## Setup"
   ]
  },
  {
   "cell_type": "markdown",
   "id": "cd0c9e40",
   "metadata": {},
   "source": [
    "### Libraries (Pyhton)"
   ]
  },
  {
   "cell_type": "code",
   "execution_count": 153,
   "id": "261465e4",
   "metadata": {},
   "outputs": [],
   "source": [
    "from sklearn.feature_extraction.text import CountVectorizer\n",
    "import copy\n",
    "import igraph as ig\n",
    "import json\n",
    "import networkx as nx\n",
    "import numpy as np\n",
    "import os\n",
    "import pandas as pd\n",
    "import pickle\n",
    "from pathlib import Path\n",
    "import scipy.sparse as sps\n",
    "import sys\n",
    "from tqdm import tqdm\n",
    "import warnings\n",
    "with warnings.catch_warnings():\n",
    "    warnings.filterwarnings(\"ignore\", category=DeprecationWarning)\n",
    "    import louvain\n",
    "\n",
    "# For development only\n",
    "from importlib import reload"
   ]
  },
  {
   "cell_type": "markdown",
   "id": "5d3a3fc0",
   "metadata": {},
   "source": [
    "### Directories"
   ]
  },
  {
   "cell_type": "code",
   "execution_count": 4,
   "id": "1ac576d4",
   "metadata": {},
   "outputs": [],
   "source": [
    "try:\n",
    "    BASE_DIR = Path(__file__).resolve().parent\n",
    "except NameError:\n",
    "    BASE_DIR = Path().resolve()\n",
    "\n",
    "SRC_DIR = BASE_DIR / 'src'\n",
    "if str(SRC_DIR) not in sys.path:\n",
    "    sys.path.append(str(SRC_DIR))\n",
    "\n",
    "DATA_DIR = BASE_DIR / 'data'\n",
    "DATA_DIR.mkdir(exist_ok=True)\n",
    "POSTS_DIR = DATA_DIR / 'posts'\n",
    "POSTS_ALL_DIR = POSTS_DIR / 'all'\n",
    "POSTS_FILTERED_DIR = POSTS_DIR / 'filtered'\n",
    "POSTS_FILTERED_CLEAN_DIR = POSTS_FILTERED_DIR / 'clean'\n",
    "COMMENTS_DIR = DATA_DIR / 'comments'\n",
    "COMMENTS_CLEAN_DIR = COMMENTS_DIR / 'clean'\n",
    "RESULTS_DIR = BASE_DIR / 'results'\n",
    "RESULTS_GRAPHS_DIR = RESULTS_DIR / 'graphs'\n",
    "RESULTS_MODELS_DIR = RESULTS_DIR / 'models'\n",
    "RESULTS_MODELS_DIR.mkdir(exist_ok=True)\n",
    "RESULTS_MODELS_FILE = RESULTS_MODELS_DIR / 'model_results.csv'"
   ]
  },
  {
   "cell_type": "markdown",
   "id": "39bcc696",
   "metadata": {},
   "source": [
    "### Libraries (Custom)"
   ]
  },
  {
   "cell_type": "code",
   "execution_count": null,
   "id": "7941a747",
   "metadata": {},
   "outputs": [],
   "source": [
    "import preprocess as prep\n",
    "# import topic as t\n",
    "import metrics as met"
   ]
  },
  {
   "cell_type": "code",
   "execution_count": 23,
   "id": "8d530afc",
   "metadata": {},
   "outputs": [
    {
     "data": {
      "text/plain": [
       "<module 'metrics' from 'C:\\\\Backup\\\\000_DS\\\\courses\\\\00-network-science\\\\ns-project\\\\src\\\\metrics.py'>"
      ]
     },
     "execution_count": 23,
     "metadata": {},
     "output_type": "execute_result"
    }
   ],
   "source": [
    "reload(met)"
   ]
  },
  {
   "cell_type": "markdown",
   "id": "1042e4e3",
   "metadata": {},
   "source": [
    "## Import Data"
   ]
  },
  {
   "cell_type": "code",
   "execution_count": 6,
   "id": "7db6c635",
   "metadata": {},
   "outputs": [
    {
     "name": "stdout",
     "output_type": "stream",
     "text": [
      "IGRAPH UNW- 15819 924974 -- \n",
      "+ attr: edge_default (g), node_default (g), _nx_name (v), name (v), weight (e)\n"
     ]
    }
   ],
   "source": [
    "# Graph\n",
    "filename = RESULTS_GRAPHS_DIR / 'g_dd.graphml'\n",
    "g_dd_nx = nx.read_graphml(str(filename))\n",
    "g_dd = ig.Graph.from_networkx(g_dd_nx)\n",
    "\n",
    "print(g_dd.summary())"
   ]
  },
  {
   "cell_type": "code",
   "execution_count": 7,
   "id": "832b7d7c",
   "metadata": {},
   "outputs": [],
   "source": [
    "# Matrices\n",
    "filename_pickle_gdd = RESULTS_GRAPHS_DIR / 'g_dd.pickle'\n",
    "with open(filename_pickle_gdd , 'rb') as f:\n",
    "    g_dd_matrices = pickle.load(f)"
   ]
  },
  {
   "cell_type": "code",
   "execution_count": 8,
   "id": "30a6f7f3",
   "metadata": {},
   "outputs": [],
   "source": [
    "# Original documents\n",
    "filename_df = DATA_DIR / 'docs_dd_giant.json'\n",
    "df_dd = pd.read_json(str(filename_df), lines=True)"
   ]
  },
  {
   "cell_type": "code",
   "execution_count": 5,
   "id": "f6349a8d",
   "metadata": {},
   "outputs": [
    {
     "name": "stdout",
     "output_type": "stream",
     "text": [
      "--- Document-Projected Network (Giant Component) ---\n",
      "Size: 15819\n",
      "Average degree: 116.94\n",
      "Median degree: 50.00\n",
      "Density: 0.00739\n",
      "Diameter: 6.00\n",
      "Average path length: 2.51146\n"
     ]
    }
   ],
   "source": [
    "# Check basic stats\n",
    "print(\"--- Document-Projected Network (Giant Component) ---\")\n",
    "print(f\"Size: {g_dd.vcount()}\")\n",
    "print(f\"Average degree: {np.mean(g_dd.degree()):.2f}\")\n",
    "print(f\"Median degree: {np.median(g_dd.degree()):.2f}\")\n",
    "print(f\"Density: {g_dd.density():.5f}\")\n",
    "print(f\"Diameter: {g_dd.diameter(directed=False, unconn=False):.2f}\")\n",
    "print(f\"Average path length: {g_dd.average_path_length():.5f}\")"
   ]
  },
  {
   "cell_type": "markdown",
   "id": "ce83bb56",
   "metadata": {},
   "source": [
    "## Louvain"
   ]
  },
  {
   "cell_type": "code",
   "execution_count": 88,
   "id": "9a19b16d",
   "metadata": {},
   "outputs": [
    {
     "name": "stdout",
     "output_type": "stream",
     "text": [
      "Number of communities: 13\n"
     ]
    }
   ],
   "source": [
    "# Partition\n",
    "partition_louvain = louvain.find_partition(g_dd, louvain.ModularityVertexPartition, weights='weight', seed=42)\n",
    "print(f\"Number of communities: {len(partition_louvain)}\")\n",
    "\n",
    "# Access community assignments\n",
    "membership_louvain = partition_louvain.membership\n",
    "topics = np.array(membership_louvain)"
   ]
  },
  {
   "cell_type": "markdown",
   "id": "e8e96e72",
   "metadata": {},
   "source": [
    "## Metrics\n",
    "Modularity (non-overlapping and overlapping), NMI, Ncut."
   ]
  },
  {
   "cell_type": "code",
   "execution_count": 155,
   "id": "4e4c9a92",
   "metadata": {},
   "outputs": [],
   "source": [
    "# Normalize existing matrices\n",
    "Pwd = g_dd_matrices['Pwd'] / g_dd_matrices['Pwd'].sum()\n",
    "Pdd = g_dd_matrices['Pdd'] / g_dd_matrices['Pdd'].sum()"
   ]
  },
  {
   "cell_type": "code",
   "execution_count": 156,
   "id": "089c0266",
   "metadata": {},
   "outputs": [
    {
     "name": "stderr",
     "output_type": "stream",
     "text": [
      "c:\\Backup\\000_DS\\courses\\00-network-science\\ns-project\\venv\\Lib\\site-packages\\scipy\\sparse\\_index.py:210: SparseEfficiencyWarning: Changing the sparsity structure of a csr_matrix is expensive. lil and dok are more efficient.\n",
      "  self._set_arrayXarray(i, j, x)\n"
     ]
    }
   ],
   "source": [
    "# Build C\n",
    "C = met.build_C(topics, with_outliers=1)"
   ]
  },
  {
   "cell_type": "code",
   "execution_count": 157,
   "id": "35850631",
   "metadata": {},
   "outputs": [],
   "source": [
    "C = C[:,np.unique(sps.find(C)[1])]"
   ]
  },
  {
   "cell_type": "code",
   "execution_count": 160,
   "id": "113850b8",
   "metadata": {},
   "outputs": [],
   "source": [
    "# Update topic matrices\n",
    "Pwc = Pwd.dot(C) # Joint word + class probability\n",
    "Pcc = ((C.T).dot(Pdd)).dot(C) # Joint class + class probability"
   ]
  },
  {
   "cell_type": "code",
   "execution_count": 161,
   "id": "c2d3aa56",
   "metadata": {},
   "outputs": [],
   "source": [
    "# Initialize results dict\n",
    "model_name = 'Louvain'\n",
    "metric_names = ['Modularity', 'Ncut', 'NMI']\n",
    "metrics = {model_name: {metric: np.nan for metric in metric_names}}"
   ]
  },
  {
   "cell_type": "code",
   "execution_count": 162,
   "id": "68350970",
   "metadata": {},
   "outputs": [
    {
     "name": "stdout",
     "output_type": "stream",
     "text": [
      "NMI: 0.1193\n",
      "Modularity: 0.2704\n",
      "Ncut: 0.6119\n",
      "Results saved to .csv\n"
     ]
    }
   ],
   "source": [
    "# Compute metrics\n",
    "metrics[model_name]['Modularity'] = met.calculate_modularity(Pcc)\n",
    "metrics[model_name]['Ncut'] = met.calculate_ncut(Pcc)\n",
    "metrics[model_name]['NMI'] = met.calculate_nmi(Pwc)\n",
    "\n",
    "# Print results\n",
    "print(f\"NMI: {metrics[model_name]['NMI']:.4f}\")\n",
    "print(f\"Modularity: {metrics[model_name]['Modularity']:.4f}\")\n",
    "print(f\"Ncut: {metrics[model_name]['Ncut']:.4f}\")\n",
    "\n",
    "met.save_results_to_csv(RESULTS_MODELS_FILE, metrics, metric_names, model_name)\n",
    "print(\"Results saved to .csv\")"
   ]
  },
  {
   "cell_type": "code",
   "execution_count": 146,
   "id": "3bb13b36",
   "metadata": {},
   "outputs": [
    {
     "data": {
      "text/plain": [
       "Counter({0: 4529,\n",
       "         1: 3176,\n",
       "         2: 2563,\n",
       "         3: 1147,\n",
       "         4: 1116,\n",
       "         5: 899,\n",
       "         6: 746,\n",
       "         7: 677,\n",
       "         8: 616,\n",
       "         9: 176,\n",
       "         10: 94,\n",
       "         11: 75,\n",
       "         12: 5})"
      ]
     },
     "execution_count": 146,
     "metadata": {},
     "output_type": "execute_result"
    }
   ],
   "source": [
    "from collections import Counter\n",
    "Counter(partition_louvain.membership)"
   ]
  },
  {
   "cell_type": "markdown",
   "id": "b86340ea",
   "metadata": {},
   "source": [
    "## Clear Allocated Memory"
   ]
  },
  {
   "cell_type": "code",
   "execution_count": 7,
   "id": "50d51f39",
   "metadata": {},
   "outputs": [
    {
     "data": {
      "text/plain": [
       "0"
      ]
     },
     "execution_count": 7,
     "metadata": {},
     "output_type": "execute_result"
    }
   ],
   "source": [
    "# Run before exiting the program to clear memory\n",
    "%reset -f\n",
    "import gc\n",
    "gc.collect()"
   ]
  }
 ],
 "metadata": {
  "kernelspec": {
   "display_name": "venv",
   "language": "python",
   "name": "python3"
  },
  "language_info": {
   "codemirror_mode": {
    "name": "ipython",
    "version": 3
   },
   "file_extension": ".py",
   "mimetype": "text/x-python",
   "name": "python",
   "nbconvert_exporter": "python",
   "pygments_lexer": "ipython3",
   "version": "3.11.0"
  }
 },
 "nbformat": 4,
 "nbformat_minor": 5
}
